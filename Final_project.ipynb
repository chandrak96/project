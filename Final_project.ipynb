{
  "nbformat": 4,
  "nbformat_minor": 0,
  "metadata": {
    "colab": {
      "name": "Final_project.ipynb",
      "provenance": [],
      "collapsed_sections": [],
      "authorship_tag": "ABX9TyNCo5yA7tRknmwRvBcy+peY",
      "include_colab_link": true
    },
    "kernelspec": {
      "name": "python3",
      "display_name": "Python 3"
    },
    "widgets": {
      "application/vnd.jupyter.widget-state+json": {
        "5e5d0da32ac64069b1715ed7f5c98798": {
          "model_module": "@jupyter-widgets/controls",
          "model_name": "HBoxModel",
          "state": {
            "_view_name": "HBoxView",
            "_dom_classes": [],
            "_model_name": "HBoxModel",
            "_view_module": "@jupyter-widgets/controls",
            "_model_module_version": "1.5.0",
            "_view_count": null,
            "_view_module_version": "1.5.0",
            "box_style": "",
            "layout": "IPY_MODEL_36d8631d7731410295cd05334afbbcde",
            "_model_module": "@jupyter-widgets/controls",
            "children": [
              "IPY_MODEL_dec780c6930e4807a5e8f4fa85b702a9",
              "IPY_MODEL_729bae2e841d4e9f994da1b156258052",
              "IPY_MODEL_b04afae3e97743769da15041480b93d2"
            ]
          }
        },
        "36d8631d7731410295cd05334afbbcde": {
          "model_module": "@jupyter-widgets/base",
          "model_name": "LayoutModel",
          "state": {
            "_view_name": "LayoutView",
            "grid_template_rows": null,
            "right": null,
            "justify_content": null,
            "_view_module": "@jupyter-widgets/base",
            "overflow": null,
            "_model_module_version": "1.2.0",
            "_view_count": null,
            "flex_flow": "row wrap",
            "width": "100%",
            "min_width": null,
            "border": null,
            "align_items": null,
            "bottom": null,
            "_model_module": "@jupyter-widgets/base",
            "top": null,
            "grid_column": null,
            "overflow_y": null,
            "overflow_x": null,
            "grid_auto_flow": null,
            "grid_area": null,
            "grid_template_columns": null,
            "flex": null,
            "_model_name": "LayoutModel",
            "justify_items": null,
            "grid_row": null,
            "max_height": null,
            "align_content": null,
            "visibility": null,
            "align_self": null,
            "height": null,
            "min_height": null,
            "padding": null,
            "grid_auto_rows": null,
            "grid_gap": null,
            "max_width": null,
            "order": null,
            "_view_module_version": "1.2.0",
            "grid_template_areas": null,
            "object_position": null,
            "object_fit": null,
            "grid_auto_columns": null,
            "margin": null,
            "display": "inline-flex",
            "left": null
          }
        },
        "dec780c6930e4807a5e8f4fa85b702a9": {
          "model_module": "@jupyter-widgets/controls",
          "model_name": "HTMLModel",
          "state": {
            "_view_name": "HTMLView",
            "style": "IPY_MODEL_c5950629354448b290850949a2d0d837",
            "_dom_classes": [],
            "description": "",
            "_model_name": "HTMLModel",
            "placeholder": "​",
            "_view_module": "@jupyter-widgets/controls",
            "_model_module_version": "1.5.0",
            "value": "Done! Use &#x27;show&#x27; commands to display/save.   ",
            "_view_count": null,
            "_view_module_version": "1.5.0",
            "description_tooltip": null,
            "_model_module": "@jupyter-widgets/controls",
            "layout": "IPY_MODEL_11a48b20adc84ad8bdf445e20dfcd88f"
          }
        },
        "729bae2e841d4e9f994da1b156258052": {
          "model_module": "@jupyter-widgets/controls",
          "model_name": "FloatProgressModel",
          "state": {
            "_view_name": "ProgressView",
            "style": "IPY_MODEL_945bcefb89384ba3b04dd9522d489840",
            "_dom_classes": [],
            "description": "",
            "_model_name": "FloatProgressModel",
            "bar_style": "success",
            "max": 1,
            "_view_module": "@jupyter-widgets/controls",
            "_model_module_version": "1.5.0",
            "value": 1,
            "_view_count": null,
            "_view_module_version": "1.5.0",
            "orientation": "horizontal",
            "min": 0,
            "description_tooltip": null,
            "_model_module": "@jupyter-widgets/controls",
            "layout": "IPY_MODEL_d20f33f5e256434495635b92385eb6a1"
          }
        },
        "b04afae3e97743769da15041480b93d2": {
          "model_module": "@jupyter-widgets/controls",
          "model_name": "HTMLModel",
          "state": {
            "_view_name": "HTMLView",
            "style": "IPY_MODEL_31e80a35c78f4d8c89df423bf71c4278",
            "_dom_classes": [],
            "description": "",
            "_model_name": "HTMLModel",
            "placeholder": "​",
            "_view_module": "@jupyter-widgets/controls",
            "_model_module_version": "1.5.0",
            "value": " [100%]   00:00 -&gt; (00:00 left)",
            "_view_count": null,
            "_view_module_version": "1.5.0",
            "description_tooltip": null,
            "_model_module": "@jupyter-widgets/controls",
            "layout": "IPY_MODEL_940f430de127496db1a6e1d9cb1c5ccb"
          }
        },
        "c5950629354448b290850949a2d0d837": {
          "model_module": "@jupyter-widgets/controls",
          "model_name": "DescriptionStyleModel",
          "state": {
            "_view_name": "StyleView",
            "_model_name": "DescriptionStyleModel",
            "description_width": "",
            "_view_module": "@jupyter-widgets/base",
            "_model_module_version": "1.5.0",
            "_view_count": null,
            "_view_module_version": "1.2.0",
            "_model_module": "@jupyter-widgets/controls"
          }
        },
        "11a48b20adc84ad8bdf445e20dfcd88f": {
          "model_module": "@jupyter-widgets/base",
          "model_name": "LayoutModel",
          "state": {
            "_view_name": "LayoutView",
            "grid_template_rows": null,
            "right": null,
            "justify_content": null,
            "_view_module": "@jupyter-widgets/base",
            "overflow": null,
            "_model_module_version": "1.2.0",
            "_view_count": null,
            "flex_flow": null,
            "width": null,
            "min_width": null,
            "border": null,
            "align_items": null,
            "bottom": null,
            "_model_module": "@jupyter-widgets/base",
            "top": null,
            "grid_column": null,
            "overflow_y": null,
            "overflow_x": null,
            "grid_auto_flow": null,
            "grid_area": null,
            "grid_template_columns": null,
            "flex": null,
            "_model_name": "LayoutModel",
            "justify_items": null,
            "grid_row": null,
            "max_height": null,
            "align_content": null,
            "visibility": null,
            "align_self": null,
            "height": null,
            "min_height": null,
            "padding": null,
            "grid_auto_rows": null,
            "grid_gap": null,
            "max_width": null,
            "order": null,
            "_view_module_version": "1.2.0",
            "grid_template_areas": null,
            "object_position": null,
            "object_fit": null,
            "grid_auto_columns": null,
            "margin": null,
            "display": null,
            "left": null
          }
        },
        "945bcefb89384ba3b04dd9522d489840": {
          "model_module": "@jupyter-widgets/controls",
          "model_name": "ProgressStyleModel",
          "state": {
            "_view_name": "StyleView",
            "_model_name": "ProgressStyleModel",
            "description_width": "",
            "_view_module": "@jupyter-widgets/base",
            "_model_module_version": "1.5.0",
            "_view_count": null,
            "_view_module_version": "1.2.0",
            "bar_color": null,
            "_model_module": "@jupyter-widgets/controls"
          }
        },
        "d20f33f5e256434495635b92385eb6a1": {
          "model_module": "@jupyter-widgets/base",
          "model_name": "LayoutModel",
          "state": {
            "_view_name": "LayoutView",
            "grid_template_rows": null,
            "right": null,
            "justify_content": null,
            "_view_module": "@jupyter-widgets/base",
            "overflow": null,
            "_model_module_version": "1.2.0",
            "_view_count": null,
            "flex_flow": null,
            "width": null,
            "min_width": null,
            "border": null,
            "align_items": null,
            "bottom": null,
            "_model_module": "@jupyter-widgets/base",
            "top": null,
            "grid_column": null,
            "overflow_y": null,
            "overflow_x": null,
            "grid_auto_flow": null,
            "grid_area": null,
            "grid_template_columns": null,
            "flex": "2",
            "_model_name": "LayoutModel",
            "justify_items": null,
            "grid_row": null,
            "max_height": null,
            "align_content": null,
            "visibility": null,
            "align_self": null,
            "height": null,
            "min_height": null,
            "padding": null,
            "grid_auto_rows": null,
            "grid_gap": null,
            "max_width": null,
            "order": null,
            "_view_module_version": "1.2.0",
            "grid_template_areas": null,
            "object_position": null,
            "object_fit": null,
            "grid_auto_columns": null,
            "margin": null,
            "display": null,
            "left": null
          }
        },
        "31e80a35c78f4d8c89df423bf71c4278": {
          "model_module": "@jupyter-widgets/controls",
          "model_name": "DescriptionStyleModel",
          "state": {
            "_view_name": "StyleView",
            "_model_name": "DescriptionStyleModel",
            "description_width": "",
            "_view_module": "@jupyter-widgets/base",
            "_model_module_version": "1.5.0",
            "_view_count": null,
            "_view_module_version": "1.2.0",
            "_model_module": "@jupyter-widgets/controls"
          }
        },
        "940f430de127496db1a6e1d9cb1c5ccb": {
          "model_module": "@jupyter-widgets/base",
          "model_name": "LayoutModel",
          "state": {
            "_view_name": "LayoutView",
            "grid_template_rows": null,
            "right": null,
            "justify_content": null,
            "_view_module": "@jupyter-widgets/base",
            "overflow": null,
            "_model_module_version": "1.2.0",
            "_view_count": null,
            "flex_flow": null,
            "width": null,
            "min_width": null,
            "border": null,
            "align_items": null,
            "bottom": null,
            "_model_module": "@jupyter-widgets/base",
            "top": null,
            "grid_column": null,
            "overflow_y": null,
            "overflow_x": null,
            "grid_auto_flow": null,
            "grid_area": null,
            "grid_template_columns": null,
            "flex": null,
            "_model_name": "LayoutModel",
            "justify_items": null,
            "grid_row": null,
            "max_height": null,
            "align_content": null,
            "visibility": null,
            "align_self": null,
            "height": null,
            "min_height": null,
            "padding": null,
            "grid_auto_rows": null,
            "grid_gap": null,
            "max_width": null,
            "order": null,
            "_view_module_version": "1.2.0",
            "grid_template_areas": null,
            "object_position": null,
            "object_fit": null,
            "grid_auto_columns": null,
            "margin": null,
            "display": null,
            "left": null
          }
        }
      }
    }
  },
  "cells": [
    {
      "cell_type": "markdown",
      "metadata": {
        "id": "view-in-github",
        "colab_type": "text"
      },
      "source": [
        "<a href=\"https://colab.research.google.com/github/chandrak96/project/blob/master/Final_project.ipynb\" target=\"_parent\"><img src=\"https://colab.research.google.com/assets/colab-badge.svg\" alt=\"Open In Colab\"/></a>"
      ]
    },
    {
      "cell_type": "code",
      "metadata": {
        "id": "utlDtmLx-tpY"
      },
      "source": [
        "import pandas as pd\n",
        "\n",
        "#importing pandas as pd and reading the csv\n",
        "data = pd.read_csv('vehicles.csv')"
      ],
      "execution_count": 4,
      "outputs": []
    },
    {
      "cell_type": "code",
      "metadata": {
        "colab": {
          "base_uri": "https://localhost:8080/"
        },
        "id": "O5kU-dbiOEt_",
        "outputId": "a8b249e0-3f45-469c-eaf0-c06dd88bfe5f"
      },
      "source": [
        "data.dtypes"
      ],
      "execution_count": 175,
      "outputs": [
        {
          "output_type": "execute_result",
          "data": {
            "text/plain": [
              "id                int64\n",
              "url              object\n",
              "region           object\n",
              "region_url       object\n",
              "price             int64\n",
              "year            float64\n",
              "manufacturer     object\n",
              "model            object\n",
              "condition        object\n",
              "cylinders        object\n",
              "fuel             object\n",
              "odometer        float64\n",
              "title_status     object\n",
              "transmission     object\n",
              "vin              object\n",
              "drive            object\n",
              "size             object\n",
              "type             object\n",
              "paint_color      object\n",
              "image_url        object\n",
              "description      object\n",
              "county          float64\n",
              "state            object\n",
              "lat             float64\n",
              "long            float64\n",
              "dtype: object"
            ]
          },
          "metadata": {
            "tags": []
          },
          "execution_count": 175
        }
      ]
    },
    {
      "cell_type": "code",
      "metadata": {
        "id": "BDVh5KGq8sCL"
      },
      "source": [
        "#Giving column names\n",
        "data.columns = ['id', 'url', 'region', 'region_url', 'price', 'year', 'manufacturer', 'model', 'condition', 'cylinders'\n",
        ", 'fuel', 'odometer', 'title_status', 'transmission', 'vin', 'drive', 'size', 'type', 'paint_color', 'image_url',\n",
        "'description', 'county', 'state', 'lat', 'long']\n",
        "\n",
        "#Dropping columns that are not used for predicting price\n",
        "data.drop(columns=['id', 'url', 'region','region_url', 'vin', 'drive', 'paint_color', 'image_url', 'description', 'county', 'state', 'lat', 'long'], axis = 1, inplace= True) "
      ],
      "execution_count": 5,
      "outputs": []
    },
    {
      "cell_type": "code",
      "metadata": {
        "id": "klaIRgs6DR8E"
      },
      "source": [
        "#Dropping rows that has atleast one null value\n",
        "data.dropna(axis=0, inplace = True)"
      ],
      "execution_count": 6,
      "outputs": []
    },
    {
      "cell_type": "code",
      "metadata": {
        "colab": {
          "base_uri": "https://localhost:8080/",
          "height": 344
        },
        "id": "94JmFAzBL2kA",
        "outputId": "d9e3c6fe-4077-4670-bcd2-c2fd855d7bcd"
      },
      "source": [
        "#Plotting correlation for price\n",
        "import seaborn as sb\n",
        "sb.heatmap(data.corr(method = 'pearson'), annot = False)"
      ],
      "execution_count": 185,
      "outputs": [
        {
          "output_type": "execute_result",
          "data": {
            "text/plain": [
              "<matplotlib.axes._subplots.AxesSubplot at 0x7fe18aeac400>"
            ]
          },
          "metadata": {
            "tags": []
          },
          "execution_count": 185
        },
        {
          "output_type": "display_data",
          "data": {
            "image/png": "[encoded data removed]",
            "text/plain": [
              "<Figure size 432x288 with 2 Axes>"
            ]
          },
          "metadata": {
            "tags": [],
            "needs_background": "light"
          }
        }
      ]
    },
    {
      "cell_type": "code",
      "metadata": {
        "colab": {
          "base_uri": "https://localhost:8080/",
          "height": 315
        },
        "id": "7diLc2CZ0hi3",
        "outputId": "08fd6e70-ee23-45b3-8b94-4da53e39ba27"
      },
      "source": [
        "#plotting graphs between price and condition\n",
        "import matplotlib.pyplot as plt\n",
        "\n",
        "data.groupby(\"condition\")['price'].mean().plot(kind='bar')\n",
        "plt.xlabel('Condition')\n",
        "plt.ylabel('Price')\n",
        "plt.legend()\n",
        "plt.show()"
      ],
      "execution_count": 179,
      "outputs": [
        {
          "output_type": "display_data",
          "data": {
            "image/png": "[encoded data removed]",
            "text/plain": [
              "<Figure size 432x288 with 1 Axes>"
            ]
          },
          "metadata": {
            "tags": [],
            "needs_background": "light"
          }
        }
      ]
    },
    {
      "cell_type": "code",
      "metadata": {
        "colab": {
          "base_uri": "https://localhost:8080/",
          "height": 334
        },
        "id": "0Oy-u11v5d6p",
        "outputId": "188b8d7b-557a-45e3-9be1-33cf6cdb8a02"
      },
      "source": [
        "#plotting graph between price and size\n",
        "data.groupby(\"size\")['price'].mean().plot(kind='bar')\n",
        "plt.xlabel('Size')\n",
        "plt.ylabel('Price')\n",
        "plt.legend()\n",
        "\n",
        "plt.show()"
      ],
      "execution_count": 69,
      "outputs": [
        {
          "output_type": "display_data",
          "data": {
            "image/png": "[encoded data removed]",
            "text/plain": [
              "<Figure size 432x288 with 1 Axes>"
            ]
          },
          "metadata": {
            "tags": [],
            "needs_background": "light"
          }
        }
      ]
    },
    {
      "cell_type": "code",
      "metadata": {
        "colab": {
          "base_uri": "https://localhost:8080/",
          "height": 332
        },
        "id": "i6647bqe7K9b",
        "outputId": "d18cf9a6-4d5d-474a-9c5b-7e06e232cb30"
      },
      "source": [
        "#plotting graph between cylinders and price\n",
        "data.groupby(\"cylinders\")['price'].mean().plot(kind='bar')\n",
        "plt.xlabel('Number of cylinders')\n",
        "plt.ylabel('Price')\n",
        "plt.legend()\n",
        "\n",
        "plt.show()"
      ],
      "execution_count": 94,
      "outputs": [
        {
          "output_type": "display_data",
          "data": {
            "image/png": "[encoded data removed]",
            "text/plain": [
              "<Figure size 432x288 with 1 Axes>"
            ]
          },
          "metadata": {
            "tags": [],
            "needs_background": "light"
          }
        }
      ]
    },
    {
      "cell_type": "code",
      "metadata": {
        "colab": {
          "base_uri": "https://localhost:8080/",
          "height": 306
        },
        "id": "wU8v6Mo999t2",
        "outputId": "59c6d29c-763f-4b10-97ed-9ac286c689dc"
      },
      "source": [
        "#plotting bar graph between price and fuel\n",
        "data.groupby(\"fuel\")['price'].mean().plot(kind='bar')\n",
        "plt.xlabel('Fuel')\n",
        "plt.ylabel('Price')\n",
        "plt.legend()\n",
        "\n",
        "plt.show()"
      ],
      "execution_count": 71,
      "outputs": [
        {
          "output_type": "display_data",
          "data": {
            "image/png": "[encoded data removed]",
            "text/plain": [
              "<Figure size 432x288 with 1 Axes>"
            ]
          },
          "metadata": {
            "tags": [],
            "needs_background": "light"
          }
        }
      ]
    },
    {
      "cell_type": "code",
      "metadata": {
        "colab": {
          "base_uri": "https://localhost:8080/",
          "height": 320
        },
        "id": "jVlVpUYb-I4V",
        "outputId": "9ad9ddab-8aef-48ec-fcd0-70ddf0295933"
      },
      "source": [
        "#plotting graph between transmission and price\n",
        "data.groupby(\"transmission\")['price'].mean().plot(kind='bar')\n",
        "plt.xlabel('Transmission')\n",
        "plt.ylabel('Price')\n",
        "plt.legend()\n",
        "\n",
        "plt.show()"
      ],
      "execution_count": 72,
      "outputs": [
        {
          "output_type": "display_data",
          "data": {
            "image/png": "[encoded data removed]",
            "text/plain": [
              "<Figure size 432x288 with 1 Axes>"
            ]
          },
          "metadata": {
            "tags": [],
            "needs_background": "light"
          }
        }
      ]
    },
    {
      "cell_type": "code",
      "metadata": {
        "colab": {
          "base_uri": "https://localhost:8080/",
          "height": 325
        },
        "id": "BpXnaLzw-R6-",
        "outputId": "0557a783-dd7b-49fa-cd8a-77c48c9b4982"
      },
      "source": [
        "data.groupby(\"type\")['price'].mean().plot(kind='bar')\n",
        "#fig, ax = plt.subplots()\n",
        "\n",
        "#data.groupby(\"type\").plot(x = 'price', y = 'year', ax = ax, legend = False)\n",
        "plt.xlabel('Type')\n",
        "plt.ylabel('Price')\n",
        "plt.legend()\n",
        "\n",
        "plt.show()"
      ],
      "execution_count": 88,
      "outputs": [
        {
          "output_type": "display_data",
          "data": {
            "image/png": "[encoded data removed]",
            "text/plain": [
              "<Figure size 432x288 with 1 Axes>"
            ]
          },
          "metadata": {
            "tags": [],
            "needs_background": "light"
          }
        }
      ]
    },
    {
      "cell_type": "code",
      "metadata": {
        "colab": {
          "base_uri": "https://localhost:8080/",
          "height": 204
        },
        "id": "Kza1nu54PdPP",
        "outputId": "00e3376f-87d8-4056-ab8e-09e778ec20b8"
      },
      "source": [
        "#Converting cylinders, size and condition attributes to numeric attributs without using encoding\n",
        "cleanup_nums = {\"cylinders\": {\"4 cylinders\": 4, \"6 cylinders\": 2, \"8 cylinders\": 8, \"5 cylinders\": 5, \"10 cylinders\": 10, \"3 cylinders\": 3, \n",
        "                                  \"12 cylinders\": 12, \"other\": 0},\n",
        "                \"size\" : {\"full-size\": 4, \"mid-size\": 3, \"compact\": 2, \"sub-compact\": 1},\n",
        "                \"condition\": {\"new\": 6, \"like new\": 5, \"excellent\": 4, \"good\": 3, \"fair\": 2, \"salvage\": 1}}\n",
        "\n",
        "data = data.replace(cleanup_nums)\n",
        "data.head()"
      ],
      "execution_count": 7,
      "outputs": [
        {
          "output_type": "execute_result",
          "data": {
            "text/html": [
              "<div>\n",
              "<style scoped>\n",
              "    .dataframe tbody tr th:only-of-type {\n",
              "        vertical-align: middle;\n",
              "    }\n",
              "\n",
              "    .dataframe tbody tr th {\n",
              "        vertical-align: top;\n",
              "    }\n",
              "\n",
              "    .dataframe thead th {\n",
              "        text-align: right;\n",
              "    }\n",
              "</style>\n",
              "<table border=\"1\" class=\"dataframe\">\n",
              "  <thead>\n",
              "    <tr style=\"text-align: right;\">\n",
              "      <th></th>\n",
              "      <th>price</th>\n",
              "      <th>year</th>\n",
              "      <th>manufacturer</th>\n",
              "      <th>model</th>\n",
              "      <th>condition</th>\n",
              "      <th>cylinders</th>\n",
              "      <th>fuel</th>\n",
              "      <th>odometer</th>\n",
              "      <th>title_status</th>\n",
              "      <th>transmission</th>\n",
              "      <th>size</th>\n",
              "      <th>type</th>\n",
              "    </tr>\n",
              "  </thead>\n",
              "  <tbody>\n",
              "    <tr>\n",
              "      <th>4</th>\n",
              "      <td>16995</td>\n",
              "      <td>2007.0</td>\n",
              "      <td>gmc</td>\n",
              "      <td>sierra classic 2500hd</td>\n",
              "      <td>3</td>\n",
              "      <td>8</td>\n",
              "      <td>diesel</td>\n",
              "      <td>254217.0</td>\n",
              "      <td>clean</td>\n",
              "      <td>automatic</td>\n",
              "      <td>4</td>\n",
              "      <td>truck</td>\n",
              "    </tr>\n",
              "    <tr>\n",
              "      <th>5</th>\n",
              "      <td>13995</td>\n",
              "      <td>2012.0</td>\n",
              "      <td>ford</td>\n",
              "      <td>f-150</td>\n",
              "      <td>3</td>\n",
              "      <td>2</td>\n",
              "      <td>gas</td>\n",
              "      <td>188406.0</td>\n",
              "      <td>clean</td>\n",
              "      <td>automatic</td>\n",
              "      <td>4</td>\n",
              "      <td>truck</td>\n",
              "    </tr>\n",
              "    <tr>\n",
              "      <th>6</th>\n",
              "      <td>7995</td>\n",
              "      <td>2010.0</td>\n",
              "      <td>chevrolet</td>\n",
              "      <td>equinox</td>\n",
              "      <td>3</td>\n",
              "      <td>4</td>\n",
              "      <td>gas</td>\n",
              "      <td>108124.0</td>\n",
              "      <td>clean</td>\n",
              "      <td>automatic</td>\n",
              "      <td>4</td>\n",
              "      <td>SUV</td>\n",
              "    </tr>\n",
              "    <tr>\n",
              "      <th>7</th>\n",
              "      <td>8995</td>\n",
              "      <td>2011.0</td>\n",
              "      <td>chevrolet</td>\n",
              "      <td>traverse</td>\n",
              "      <td>3</td>\n",
              "      <td>2</td>\n",
              "      <td>gas</td>\n",
              "      <td>178054.0</td>\n",
              "      <td>clean</td>\n",
              "      <td>automatic</td>\n",
              "      <td>4</td>\n",
              "      <td>SUV</td>\n",
              "    </tr>\n",
              "    <tr>\n",
              "      <th>8</th>\n",
              "      <td>10995</td>\n",
              "      <td>2014.0</td>\n",
              "      <td>ford</td>\n",
              "      <td>explorer</td>\n",
              "      <td>3</td>\n",
              "      <td>2</td>\n",
              "      <td>gas</td>\n",
              "      <td>170259.0</td>\n",
              "      <td>clean</td>\n",
              "      <td>automatic</td>\n",
              "      <td>4</td>\n",
              "      <td>SUV</td>\n",
              "    </tr>\n",
              "  </tbody>\n",
              "</table>\n",
              "</div>"
            ],
            "text/plain": [
              "   price    year manufacturer  ... transmission  size   type\n",
              "4  16995  2007.0          gmc  ...    automatic     4  truck\n",
              "5  13995  2012.0         ford  ...    automatic     4  truck\n",
              "6   7995  2010.0    chevrolet  ...    automatic     4    SUV\n",
              "7   8995  2011.0    chevrolet  ...    automatic     4    SUV\n",
              "8  10995  2014.0         ford  ...    automatic     4    SUV\n",
              "\n",
              "[5 rows x 12 columns]"
            ]
          },
          "metadata": {
            "tags": []
          },
          "execution_count": 7
        }
      ]
    },
    {
      "cell_type": "code",
      "metadata": {
        "colab": {
          "base_uri": "https://localhost:8080/"
        },
        "id": "0cxYIjtY__7d",
        "outputId": "53155679-a4e6-4c1b-d076-282a7264408b"
      },
      "source": [
        "!pip install sweetviz"
      ],
      "execution_count": 9,
      "outputs": [
        {
          "output_type": "stream",
          "text": [
            "Collecting sweetviz\n",
            "\u001b[?25l  Downloading https://files.pythonhosted.org/packages/c2/e1/c2279b19dd36075a54c371ef211b18cd5e3fb90bd0f3e21b690c86cde5e1/sweetviz-2.0.2-py3-none-any.whl (15.1MB)\n",
            "\u001b[K     |████████████████████████████████| 15.1MB 293kB/s \n",
            "\u001b[?25hRequirement already satisfied: numpy>=1.16.0 in /usr/local/lib/python3.6/dist-packages (from sweetviz) (1.18.5)\n",
            "Requirement already satisfied: matplotlib>=3.1.3 in /usr/local/lib/python3.6/dist-packages (from sweetviz) (3.2.2)\n",
            "Requirement already satisfied: jinja2>=2.11.1 in /usr/local/lib/python3.6/dist-packages (from sweetviz) (2.11.2)\n",
            "Requirement already satisfied: scipy>=1.3.2 in /usr/local/lib/python3.6/dist-packages (from sweetviz) (1.4.1)\n",
            "Collecting tqdm>=4.43.0\n",
            "\u001b[?25l  Downloading https://files.pythonhosted.org/packages/e9/4e/afa45872365fe2abd13c8022d39348c01808b8cfeea129937920d7bb2244/tqdm-4.54.0-py2.py3-none-any.whl (69kB)\n",
            "\u001b[K     |████████████████████████████████| 71kB 9.7MB/s \n",
            "\u001b[?25hRequirement already satisfied: importlib-resources>=1.2.0 in /usr/local/lib/python3.6/dist-packages (from sweetviz) (3.3.0)\n",
            "Requirement already satisfied: pandas!=1.0.0,!=1.0.1,!=1.0.2,>=0.25.3 in /usr/local/lib/python3.6/dist-packages (from sweetviz) (1.1.4)\n",
            "Requirement already satisfied: kiwisolver>=1.0.1 in /usr/local/lib/python3.6/dist-packages (from matplotlib>=3.1.3->sweetviz) (1.3.1)\n",
            "Requirement already satisfied: pyparsing!=2.0.4,!=2.1.2,!=2.1.6,>=2.0.1 in /usr/local/lib/python3.6/dist-packages (from matplotlib>=3.1.3->sweetviz) (2.4.7)\n",
            "Requirement already satisfied: python-dateutil>=2.1 in /usr/local/lib/python3.6/dist-packages (from matplotlib>=3.1.3->sweetviz) (2.8.1)\n",
            "Requirement already satisfied: cycler>=0.10 in /usr/local/lib/python3.6/dist-packages (from matplotlib>=3.1.3->sweetviz) (0.10.0)\n",
            "Requirement already satisfied: MarkupSafe>=0.23 in /usr/local/lib/python3.6/dist-packages (from jinja2>=2.11.1->sweetviz) (1.1.1)\n",
            "Requirement already satisfied: zipp>=0.4; python_version < \"3.8\" in /usr/local/lib/python3.6/dist-packages (from importlib-resources>=1.2.0->sweetviz) (3.4.0)\n",
            "Requirement already satisfied: pytz>=2017.2 in /usr/local/lib/python3.6/dist-packages (from pandas!=1.0.0,!=1.0.1,!=1.0.2,>=0.25.3->sweetviz) (2018.9)\n",
            "Requirement already satisfied: six>=1.5 in /usr/local/lib/python3.6/dist-packages (from python-dateutil>=2.1->matplotlib>=3.1.3->sweetviz) (1.15.0)\n",
            "Installing collected packages: tqdm, sweetviz\n",
            "  Found existing installation: tqdm 4.41.1\n",
            "    Uninstalling tqdm-4.41.1:\n",
            "      Successfully uninstalled tqdm-4.41.1\n",
            "Successfully installed sweetviz-2.0.2 tqdm-4.54.0\n"
          ],
          "name": "stdout"
        }
      ]
    },
    {
      "cell_type": "code",
      "metadata": {
        "colab": {
          "base_uri": "https://localhost:8080/",
          "height": 83,
          "referenced_widgets": [
            "5e5d0da32ac64069b1715ed7f5c98798",
            "36d8631d7731410295cd05334afbbcde",
            "dec780c6930e4807a5e8f4fa85b702a9",
            "729bae2e841d4e9f994da1b156258052",
            "b04afae3e97743769da15041480b93d2",
            "c5950629354448b290850949a2d0d837",
            "11a48b20adc84ad8bdf445e20dfcd88f",
            "945bcefb89384ba3b04dd9522d489840",
            "d20f33f5e256434495635b92385eb6a1",
            "31e80a35c78f4d8c89df423bf71c4278",
            "940f430de127496db1a6e1d9cb1c5ccb"
          ]
        },
        "id": "sSx7CUiQxIbf",
        "outputId": "804907db-cd37-4cef-c0a5-07451fd8b741"
      },
      "source": [
        "#Generating report using sweetviz\n",
        "import sweetviz\n",
        "report = sweetviz.analyze(data, target_feat = 'price')\n",
        "report.show_html('report.html')"
      ],
      "execution_count": 12,
      "outputs": [
        {
          "output_type": "display_data",
          "data": {
            "application/vnd.jupyter.widget-view+json": {
              "model_id": "5e5d0da32ac64069b1715ed7f5c98798",
              "version_minor": 0,
              "version_major": 2
            },
            "text/plain": [
              "HBox(children=(HTML(value=''), FloatProgress(value=0.0, layout=Layout(flex='2'), max=13.0), HTML(value='')), l…"
            ]
          },
          "metadata": {
            "tags": []
          }
        },
        {
          "output_type": "stream",
          "text": [
            "\n",
            "Report report.html was generated! NOTEBOOK/COLAB USERS: the web browser MAY not pop up, regardless, the report IS saved in your notebook/colab files.\n"
          ],
          "name": "stdout"
        }
      ]
    },
    {
      "cell_type": "code",
      "metadata": {
        "colab": {
          "base_uri": "https://localhost:8080/"
        },
        "id": "pUuRmPaagd-3",
        "outputId": "4870c717-23d1-44db-e6f9-495e148d4a12"
      },
      "source": [
        "data.info()"
      ],
      "execution_count": 11,
      "outputs": [
        {
          "output_type": "stream",
          "text": [
            "<class 'pandas.core.frame.DataFrame'>\n",
            "Int64Index: 66192 entries, 4 to 423853\n",
            "Data columns (total 12 columns):\n",
            " #   Column        Non-Null Count  Dtype  \n",
            "---  ------        --------------  -----  \n",
            " 0   price         66192 non-null  int64  \n",
            " 1   year          66192 non-null  float64\n",
            " 2   manufacturer  66192 non-null  int64  \n",
            " 3   model         66192 non-null  int64  \n",
            " 4   condition     66192 non-null  int64  \n",
            " 5   cylinders     66192 non-null  int64  \n",
            " 6   fuel          66192 non-null  int64  \n",
            " 7   odometer      66192 non-null  float64\n",
            " 8   title_status  66192 non-null  int64  \n",
            " 9   transmission  66192 non-null  int64  \n",
            " 10  size          66192 non-null  int64  \n",
            " 11  type          66192 non-null  int64  \n",
            "dtypes: float64(2), int64(10)\n",
            "memory usage: 6.6 MB\n"
          ],
          "name": "stdout"
        }
      ]
    },
    {
      "cell_type": "code",
      "metadata": {
        "id": "RKWYdtpn52aF"
      },
      "source": [
        "#Using encoding to convert remaining non-numeric attributes to numeric attributes\n",
        "from sklearn.preprocessing import LabelEncoder\n",
        "\n",
        "numerics = ['int8', 'int16', 'int32', 'int64', 'float16', 'float32', 'float64']\n",
        "categorical_columns = []\n",
        "features = data.columns.values.tolist()\n",
        "\n",
        "for col in features:\n",
        "  if data[col].dtype in numerics: \n",
        "    continue\n",
        "  categorical_columns.append(col)\n",
        "\n",
        "for col in categorical_columns:\n",
        "    if col in data.columns:\n",
        "        le = LabelEncoder()\n",
        "        le.fit(list(data[col].astype(str).values))\n",
        "        data[col] = le.transform(list(data[col].astype(str).values))  "
      ],
      "execution_count": 10,
      "outputs": []
    },
    {
      "cell_type": "code",
      "metadata": {
        "id": "mqMCJ85V8V0j"
      },
      "source": [
        "#Changing year, price and odometer values \n",
        "data['year'] = (data['year']-1900).astype(int)\n",
        "data['odometer'] = data['odometer'].astype(int)\n",
        "\n",
        "data = data[data['price'] > 1000]\n",
        "data = data[data['price'] < 40000]\n",
        "# Rounded ['odometer'] to 5000\n",
        "data['odometer'] = data['odometer'] // 5000\n",
        "data['price'] = data['price']/1000\n",
        "\n",
        "data = data[data['year'] > 110]"
      ],
      "execution_count": 13,
      "outputs": []
    },
    {
      "cell_type": "code",
      "metadata": {
        "colab": {
          "base_uri": "https://localhost:8080/",
          "height": 421
        },
        "id": "D5AgYr4m8daq",
        "outputId": "171cec54-0f21-433f-d715-82d4243eabfc"
      },
      "source": [
        "#finding attribute with highest correlations\n",
        "data.corr()"
      ],
      "execution_count": 14,
      "outputs": [
        {
          "output_type": "execute_result",
          "data": {
            "text/html": [
              "<div>\n",
              "<style scoped>\n",
              "    .dataframe tbody tr th:only-of-type {\n",
              "        vertical-align: middle;\n",
              "    }\n",
              "\n",
              "    .dataframe tbody tr th {\n",
              "        vertical-align: top;\n",
              "    }\n",
              "\n",
              "    .dataframe thead th {\n",
              "        text-align: right;\n",
              "    }\n",
              "</style>\n",
              "<table border=\"1\" class=\"dataframe\">\n",
              "  <thead>\n",
              "    <tr style=\"text-align: right;\">\n",
              "      <th></th>\n",
              "      <th>price</th>\n",
              "      <th>year</th>\n",
              "      <th>manufacturer</th>\n",
              "      <th>model</th>\n",
              "      <th>condition</th>\n",
              "      <th>cylinders</th>\n",
              "      <th>fuel</th>\n",
              "      <th>odometer</th>\n",
              "      <th>title_status</th>\n",
              "      <th>transmission</th>\n",
              "      <th>size</th>\n",
              "      <th>type</th>\n",
              "    </tr>\n",
              "  </thead>\n",
              "  <tbody>\n",
              "    <tr>\n",
              "      <th>price</th>\n",
              "      <td>1.000000</td>\n",
              "      <td>0.474715</td>\n",
              "      <td>-0.059731</td>\n",
              "      <td>0.071309</td>\n",
              "      <td>0.146450</td>\n",
              "      <td>0.265793</td>\n",
              "      <td>-0.253859</td>\n",
              "      <td>-0.233647</td>\n",
              "      <td>-0.080655</td>\n",
              "      <td>-0.024236</td>\n",
              "      <td>0.314771</td>\n",
              "      <td>0.037480</td>\n",
              "    </tr>\n",
              "    <tr>\n",
              "      <th>year</th>\n",
              "      <td>0.474715</td>\n",
              "      <td>1.000000</td>\n",
              "      <td>0.025310</td>\n",
              "      <td>0.042000</td>\n",
              "      <td>0.242323</td>\n",
              "      <td>-0.046813</td>\n",
              "      <td>0.061689</td>\n",
              "      <td>-0.381282</td>\n",
              "      <td>0.075870</td>\n",
              "      <td>-0.024216</td>\n",
              "      <td>-0.022411</td>\n",
              "      <td>-0.014043</td>\n",
              "    </tr>\n",
              "    <tr>\n",
              "      <th>manufacturer</th>\n",
              "      <td>-0.059731</td>\n",
              "      <td>0.025310</td>\n",
              "      <td>1.000000</td>\n",
              "      <td>0.001561</td>\n",
              "      <td>0.028526</td>\n",
              "      <td>-0.097347</td>\n",
              "      <td>-0.029602</td>\n",
              "      <td>-0.022281</td>\n",
              "      <td>0.009215</td>\n",
              "      <td>0.049828</td>\n",
              "      <td>-0.114405</td>\n",
              "      <td>0.003691</td>\n",
              "    </tr>\n",
              "    <tr>\n",
              "      <th>model</th>\n",
              "      <td>0.071309</td>\n",
              "      <td>0.042000</td>\n",
              "      <td>0.001561</td>\n",
              "      <td>1.000000</td>\n",
              "      <td>-0.008322</td>\n",
              "      <td>0.018628</td>\n",
              "      <td>0.025392</td>\n",
              "      <td>0.007567</td>\n",
              "      <td>-0.019939</td>\n",
              "      <td>-0.004129</td>\n",
              "      <td>0.069136</td>\n",
              "      <td>-0.099098</td>\n",
              "    </tr>\n",
              "    <tr>\n",
              "      <th>condition</th>\n",
              "      <td>0.146450</td>\n",
              "      <td>0.242323</td>\n",
              "      <td>0.028526</td>\n",
              "      <td>-0.008322</td>\n",
              "      <td>1.000000</td>\n",
              "      <td>-0.066401</td>\n",
              "      <td>0.060580</td>\n",
              "      <td>-0.180960</td>\n",
              "      <td>-0.001497</td>\n",
              "      <td>-0.009745</td>\n",
              "      <td>-0.059349</td>\n",
              "      <td>-0.045775</td>\n",
              "    </tr>\n",
              "    <tr>\n",
              "      <th>cylinders</th>\n",
              "      <td>0.265793</td>\n",
              "      <td>-0.046813</td>\n",
              "      <td>-0.097347</td>\n",
              "      <td>0.018628</td>\n",
              "      <td>-0.066401</td>\n",
              "      <td>1.000000</td>\n",
              "      <td>-0.111154</td>\n",
              "      <td>0.072861</td>\n",
              "      <td>-0.040307</td>\n",
              "      <td>-0.009286</td>\n",
              "      <td>0.184464</td>\n",
              "      <td>0.244805</td>\n",
              "    </tr>\n",
              "    <tr>\n",
              "      <th>fuel</th>\n",
              "      <td>-0.253859</td>\n",
              "      <td>0.061689</td>\n",
              "      <td>-0.029602</td>\n",
              "      <td>0.025392</td>\n",
              "      <td>0.060580</td>\n",
              "      <td>-0.111154</td>\n",
              "      <td>1.000000</td>\n",
              "      <td>-0.104887</td>\n",
              "      <td>0.035669</td>\n",
              "      <td>0.013578</td>\n",
              "      <td>-0.141946</td>\n",
              "      <td>-0.144785</td>\n",
              "    </tr>\n",
              "    <tr>\n",
              "      <th>odometer</th>\n",
              "      <td>-0.233647</td>\n",
              "      <td>-0.381282</td>\n",
              "      <td>-0.022281</td>\n",
              "      <td>0.007567</td>\n",
              "      <td>-0.180960</td>\n",
              "      <td>0.072861</td>\n",
              "      <td>-0.104887</td>\n",
              "      <td>1.000000</td>\n",
              "      <td>-0.097447</td>\n",
              "      <td>-0.014637</td>\n",
              "      <td>0.093442</td>\n",
              "      <td>0.041948</td>\n",
              "    </tr>\n",
              "    <tr>\n",
              "      <th>title_status</th>\n",
              "      <td>-0.080655</td>\n",
              "      <td>0.075870</td>\n",
              "      <td>0.009215</td>\n",
              "      <td>-0.019939</td>\n",
              "      <td>-0.001497</td>\n",
              "      <td>-0.040307</td>\n",
              "      <td>0.035669</td>\n",
              "      <td>-0.097447</td>\n",
              "      <td>1.000000</td>\n",
              "      <td>-0.009743</td>\n",
              "      <td>-0.042133</td>\n",
              "      <td>0.004757</td>\n",
              "    </tr>\n",
              "    <tr>\n",
              "      <th>transmission</th>\n",
              "      <td>-0.024236</td>\n",
              "      <td>-0.024216</td>\n",
              "      <td>0.049828</td>\n",
              "      <td>-0.004129</td>\n",
              "      <td>-0.009745</td>\n",
              "      <td>-0.009286</td>\n",
              "      <td>0.013578</td>\n",
              "      <td>-0.014637</td>\n",
              "      <td>-0.009743</td>\n",
              "      <td>1.000000</td>\n",
              "      <td>-0.146444</td>\n",
              "      <td>-0.016951</td>\n",
              "    </tr>\n",
              "    <tr>\n",
              "      <th>size</th>\n",
              "      <td>0.314771</td>\n",
              "      <td>-0.022411</td>\n",
              "      <td>-0.114405</td>\n",
              "      <td>0.069136</td>\n",
              "      <td>-0.059349</td>\n",
              "      <td>0.184464</td>\n",
              "      <td>-0.141946</td>\n",
              "      <td>0.093442</td>\n",
              "      <td>-0.042133</td>\n",
              "      <td>-0.146444</td>\n",
              "      <td>1.000000</td>\n",
              "      <td>0.048709</td>\n",
              "    </tr>\n",
              "    <tr>\n",
              "      <th>type</th>\n",
              "      <td>0.037480</td>\n",
              "      <td>-0.014043</td>\n",
              "      <td>0.003691</td>\n",
              "      <td>-0.099098</td>\n",
              "      <td>-0.045775</td>\n",
              "      <td>0.244805</td>\n",
              "      <td>-0.144785</td>\n",
              "      <td>0.041948</td>\n",
              "      <td>0.004757</td>\n",
              "      <td>-0.016951</td>\n",
              "      <td>0.048709</td>\n",
              "      <td>1.000000</td>\n",
              "    </tr>\n",
              "  </tbody>\n",
              "</table>\n",
              "</div>"
            ],
            "text/plain": [
              "                 price      year  ...      size      type\n",
              "price         1.000000  0.474715  ...  0.314771  0.037480\n",
              "year          0.474715  1.000000  ... -0.022411 -0.014043\n",
              "manufacturer -0.059731  0.025310  ... -0.114405  0.003691\n",
              "model         0.071309  0.042000  ...  0.069136 -0.099098\n",
              "condition     0.146450  0.242323  ... -0.059349 -0.045775\n",
              "cylinders     0.265793 -0.046813  ...  0.184464  0.244805\n",
              "fuel         -0.253859  0.061689  ... -0.141946 -0.144785\n",
              "odometer     -0.233647 -0.381282  ...  0.093442  0.041948\n",
              "title_status -0.080655  0.075870  ... -0.042133  0.004757\n",
              "transmission -0.024236 -0.024216  ... -0.146444 -0.016951\n",
              "size          0.314771 -0.022411  ...  1.000000  0.048709\n",
              "type          0.037480 -0.014043  ...  0.048709  1.000000\n",
              "\n",
              "[12 rows x 12 columns]"
            ]
          },
          "metadata": {
            "tags": []
          },
          "execution_count": 14
        }
      ]
    },
    {
      "cell_type": "code",
      "metadata": {
        "colab": {
          "base_uri": "https://localhost:8080/"
        },
        "id": "AGZP8BtU9gl1",
        "outputId": "4e6220cd-587e-449a-b710-ae7c4a9d736f"
      },
      "source": [
        "data.info()"
      ],
      "execution_count": 149,
      "outputs": [
        {
          "output_type": "stream",
          "text": [
            "<class 'pandas.core.frame.DataFrame'>\n",
            "Int64Index: 27733 entries, 5 to 423849\n",
            "Data columns (total 12 columns):\n",
            " #   Column        Non-Null Count  Dtype  \n",
            "---  ------        --------------  -----  \n",
            " 0   price         27733 non-null  float64\n",
            " 1   year          27733 non-null  int64  \n",
            " 2   manufacturer  27733 non-null  int64  \n",
            " 3   model         27733 non-null  int64  \n",
            " 4   condition     27733 non-null  int64  \n",
            " 5   cylinders     27733 non-null  int64  \n",
            " 6   fuel          27733 non-null  int64  \n",
            " 7   odometer      27733 non-null  int64  \n",
            " 8   title_status  27733 non-null  int64  \n",
            " 9   transmission  27733 non-null  int64  \n",
            " 10  size          27733 non-null  int64  \n",
            " 11  type          27733 non-null  int64  \n",
            "dtypes: float64(1), int64(11)\n",
            "memory usage: 2.8 MB\n"
          ],
          "name": "stdout"
        }
      ]
    },
    {
      "cell_type": "code",
      "metadata": {
        "colab": {
          "base_uri": "https://localhost:8080/",
          "height": 204
        },
        "id": "xQTYdN2cQbaW",
        "outputId": "9e0bcd35-eeb2-4c7f-8f85-c5f1aa8bfdc6"
      },
      "source": [
        "data.head()"
      ],
      "execution_count": 150,
      "outputs": [
        {
          "output_type": "execute_result",
          "data": {
            "text/html": [
              "<div>\n",
              "<style scoped>\n",
              "    .dataframe tbody tr th:only-of-type {\n",
              "        vertical-align: middle;\n",
              "    }\n",
              "\n",
              "    .dataframe tbody tr th {\n",
              "        vertical-align: top;\n",
              "    }\n",
              "\n",
              "    .dataframe thead th {\n",
              "        text-align: right;\n",
              "    }\n",
              "</style>\n",
              "<table border=\"1\" class=\"dataframe\">\n",
              "  <thead>\n",
              "    <tr style=\"text-align: right;\">\n",
              "      <th></th>\n",
              "      <th>price</th>\n",
              "      <th>year</th>\n",
              "      <th>manufacturer</th>\n",
              "      <th>model</th>\n",
              "      <th>condition</th>\n",
              "      <th>cylinders</th>\n",
              "      <th>fuel</th>\n",
              "      <th>odometer</th>\n",
              "      <th>title_status</th>\n",
              "      <th>transmission</th>\n",
              "      <th>size</th>\n",
              "      <th>type</th>\n",
              "    </tr>\n",
              "  </thead>\n",
              "  <tbody>\n",
              "    <tr>\n",
              "      <th>5</th>\n",
              "      <td>13.995</td>\n",
              "      <td>112</td>\n",
              "      <td>13</td>\n",
              "      <td>3433</td>\n",
              "      <td>3</td>\n",
              "      <td>2</td>\n",
              "      <td>2</td>\n",
              "      <td>37</td>\n",
              "      <td>0</td>\n",
              "      <td>0</td>\n",
              "      <td>4</td>\n",
              "      <td>10</td>\n",
              "    </tr>\n",
              "    <tr>\n",
              "      <th>7</th>\n",
              "      <td>8.995</td>\n",
              "      <td>111</td>\n",
              "      <td>7</td>\n",
              "      <td>8023</td>\n",
              "      <td>3</td>\n",
              "      <td>2</td>\n",
              "      <td>2</td>\n",
              "      <td>35</td>\n",
              "      <td>0</td>\n",
              "      <td>0</td>\n",
              "      <td>4</td>\n",
              "      <td>0</td>\n",
              "    </tr>\n",
              "    <tr>\n",
              "      <th>8</th>\n",
              "      <td>10.995</td>\n",
              "      <td>114</td>\n",
              "      <td>13</td>\n",
              "      <td>3308</td>\n",
              "      <td>3</td>\n",
              "      <td>2</td>\n",
              "      <td>2</td>\n",
              "      <td>34</td>\n",
              "      <td>0</td>\n",
              "      <td>0</td>\n",
              "      <td>4</td>\n",
              "      <td>0</td>\n",
              "    </tr>\n",
              "    <tr>\n",
              "      <th>10</th>\n",
              "      <td>10.995</td>\n",
              "      <td>111</td>\n",
              "      <td>7</td>\n",
              "      <td>7028</td>\n",
              "      <td>3</td>\n",
              "      <td>8</td>\n",
              "      <td>2</td>\n",
              "      <td>42</td>\n",
              "      <td>0</td>\n",
              "      <td>0</td>\n",
              "      <td>4</td>\n",
              "      <td>10</td>\n",
              "    </tr>\n",
              "    <tr>\n",
              "      <th>11</th>\n",
              "      <td>12.450</td>\n",
              "      <td>111</td>\n",
              "      <td>7</td>\n",
              "      <td>7028</td>\n",
              "      <td>3</td>\n",
              "      <td>8</td>\n",
              "      <td>2</td>\n",
              "      <td>30</td>\n",
              "      <td>0</td>\n",
              "      <td>0</td>\n",
              "      <td>4</td>\n",
              "      <td>10</td>\n",
              "    </tr>\n",
              "  </tbody>\n",
              "</table>\n",
              "</div>"
            ],
            "text/plain": [
              "     price  year  manufacturer  model  ...  title_status  transmission  size  type\n",
              "5   13.995   112            13   3433  ...             0             0     4    10\n",
              "7    8.995   111             7   8023  ...             0             0     4     0\n",
              "8   10.995   114            13   3308  ...             0             0     4     0\n",
              "10  10.995   111             7   7028  ...             0             0     4    10\n",
              "11  12.450   111             7   7028  ...             0             0     4    10\n",
              "\n",
              "[5 rows x 12 columns]"
            ]
          },
          "metadata": {
            "tags": []
          },
          "execution_count": 150
        }
      ]
    },
    {
      "cell_type": "code",
      "metadata": {
        "id": "UNaRngOSL-aa"
      },
      "source": [
        "#Splitting data into test and training\n",
        "from sklearn import linear_model\n",
        "from sklearn.model_selection import train_test_split\n",
        "from sklearn import metrics\n",
        "import numpy as np\n",
        "\n",
        "X = data[[\"year\", \"manufacturer\", \"model\", \"condition\", \"cylinders\", \"fuel\", \"odometer\", \"title_status\", \"transmission\", \"size\", \"type\"]]\n",
        "\n",
        "Y = data[[\"price\"]]\n",
        "\n",
        "#X = np.asarray(X).astype(np.float32)\n",
        "#Y = np.asarray(Y).astype(np.float32)\n",
        "\n",
        "#Standardize the dataset using standard scaling\n",
        "from sklearn.preprocessing import StandardScaler\n",
        "#X1 = StandardScaler().fit_transform(X)\n",
        "#Y1 = StandardScaler().fit_transform(Y.reshape(len(Y),1))[:,0]\n",
        "\n",
        "from sklearn.model_selection import train_test_split\n",
        "x_train, x_test, y_train, y_test = train_test_split(X, Y, test_size = 0.15, random_state = 100)\n"
      ],
      "execution_count": 15,
      "outputs": []
    },
    {
      "cell_type": "code",
      "metadata": {
        "colab": {
          "base_uri": "https://localhost:8080/"
        },
        "id": "xcgxvnPSFtFN",
        "outputId": "987927f1-dfdc-41ff-f528-ce71a454b857"
      },
      "source": [
        "#Using linear regression algorithm with 500 splits\n",
        "from sklearn import model_selection\n",
        "\n",
        "model = linear_model.LinearRegression()\n",
        "kfold = model_selection.KFold(n_splits=500, random_state=7, shuffle= True)\n",
        "cross_better = model_selection.cross_val_score(model , X , Y , cv=kfold)\n",
        "\n",
        "model.fit(x_train, y_train)\n",
        "\n",
        "print(\"Intercept:\", model.intercept_)\n",
        "print(\"Coefficient:\", model.coef_)"
      ],
      "execution_count": 16,
      "outputs": [
        {
          "output_type": "stream",
          "text": [
            "Intercept: [-174.59428325]\n",
            "Coefficient: [[ 1.61601795e+00 -2.34537257e-02  1.08550505e-04  7.29360557e-01\n",
            "   9.14001535e-01 -4.37947331e+00 -6.74401452e-02 -7.73728089e-01\n",
            "   9.05271203e-01  2.83868053e+00 -9.72401299e-02]]\n"
          ],
          "name": "stdout"
        }
      ]
    },
    {
      "cell_type": "code",
      "metadata": {
        "colab": {
          "base_uri": "https://localhost:8080/"
        },
        "id": "l1FmXzWZfjEb",
        "outputId": "2759681d-ceec-4af5-dd0f-57cf7af4e6ac"
      },
      "source": [
        "#Calculating r2 score, mse and mae for evaluation\n",
        "y_pred = model.predict(x_test)\n",
        "\n",
        "score = metrics.r2_score(y_test, y_pred)\n",
        "mse = metrics.mean_squared_error(y_test, y_pred)\n",
        "mae = metrics.mean_absolute_error(y_test, y_pred)\n",
        "print(\"R2-score:\", score)\n",
        "print(\"Mean Absolute Error:\", mae)\n",
        "print(\"Mean Squared Error:\", mse)"
      ],
      "execution_count": 18,
      "outputs": [
        {
          "output_type": "stream",
          "text": [
            "R2-score: 0.4694684842023097\n",
            "Mean Absolute Error: 4.806040798778137\n",
            "Mean Squared Error: 38.4145586516845\n"
          ],
          "name": "stdout"
        }
      ]
    },
    {
      "cell_type": "code",
      "metadata": {
        "id": "u5UyA_rOuRJI",
        "colab": {
          "base_uri": "https://localhost:8080/"
        },
        "outputId": "33d3b536-dd24-4848-8b1f-9be350dfd4ad"
      },
      "source": [
        "#Using random forest algorithm\n",
        "from sklearn.ensemble import RandomForestRegressor\n",
        "regressor = RandomForestRegressor(n_estimators=200, random_state=0)\n",
        "regressor.fit(x_train, y_train)\n",
        "y_pred2 = regressor.predict(x_test)"
      ],
      "execution_count": 19,
      "outputs": [
        {
          "output_type": "stream",
          "text": [
            "/usr/local/lib/python3.6/dist-packages/ipykernel_launcher.py:4: DataConversionWarning: A column-vector y was passed when a 1d array was expected. Please change the shape of y to (n_samples,), for example using ravel().\n",
            "  after removing the cwd from sys.path.\n"
          ],
          "name": "stderr"
        }
      ]
    },
    {
      "cell_type": "code",
      "metadata": {
        "colab": {
          "base_uri": "https://localhost:8080/"
        },
        "id": "FrkgjlKAurr4",
        "outputId": "8a9f70a5-30aa-477a-f436-41b76493043c"
      },
      "source": [
        "#Calculating r2 score, mae and mse for evaluation\n",
        "print('R2-score:', metrics.r2_score(y_test, y_pred2))\n",
        "print('Mean Absolute Error:', metrics.mean_absolute_error(y_test, y_pred2))\n",
        "print('Mean Squared Error:', metrics.mean_squared_error(y_test, y_pred2))\n"
      ],
      "execution_count": 20,
      "outputs": [
        {
          "output_type": "stream",
          "text": [
            "R2-score: 0.856410917375111\n",
            "Mean Absolute Error: 1.8913014683816134\n",
            "Mean Squared Error: 10.396953002767084\n"
          ],
          "name": "stdout"
        }
      ]
    },
    {
      "cell_type": "code",
      "metadata": {
        "colab": {
          "base_uri": "https://localhost:8080/"
        },
        "id": "zc8yzEeGvuXm",
        "outputId": "109abe9c-64e3-4bdd-fbc6-59f70e11c054"
      },
      "source": [
        "#Using keras tuner to find the best fit of optimizers\n",
        "from keras.regularizers import l2\n",
        "import tensorflow as tf\n",
        "from tensorflow import keras\n",
        "import IPython\n",
        "!pip install -q -U keras-tuner\n",
        "\n",
        "import kerastuner as kt\n",
        "print('IPython version:', IPython.__version__, 'Keras Tuner version:', kt.__version__)\n",
        "\n",
        "#model2 = keras.models.Sequential([\n",
        "#keras.layers.Flatten(input_shape = [11,]),\n",
        "#keras.layers.Dense(25 , kernel_initializer=\"he_normal\", kernel_regularizer=l2(0.02), bias_regularizer=l2(0.01)),\n",
        "#keras.layers.LeakyReLU(alpha = 0.2),\n",
        "#keras.layers.Dense(60 , activation=\"relu\", kernel_initializer=\"he_normal\", kernel_regularizer=l2(0.01), bias_regularizer=l2(0.01)),\n",
        "#keras.layers.Dense(75 , kernel_initializer=\"he_normal\", kernel_regularizer=l2(0.01), bias_regularizer=l2(0.01)),\n",
        "#keras.layers.LeakyReLU(alpha = 0.2),\n",
        "#keras.layers.Dense(50 ,activation=\"linear\", kernel_regularizer=l2(0.01), bias_regularizer=l2(0.01))\n",
        "#])\n"
      ],
      "execution_count": 53,
      "outputs": [
        {
          "output_type": "stream",
          "text": [
            "IPython version: 5.5.0 Keras Tuner version: 1.0.2\n"
          ],
          "name": "stdout"
        }
      ]
    },
    {
      "cell_type": "code",
      "metadata": {
        "id": "n9Ndi0qKfiyg"
      },
      "source": [
        "#Splitting data into 80 train, 10 test and 10 valid\n",
        "from sklearn.model_selection import train_test_split\n",
        "x_train1, x_test1, y_train1, y_test1 = train_test_split(X, Y, test_size = 0.2, random_state = 100)\n",
        "x_valid, x_test1, y_valid, y_test1 = train_test_split(x_test1, y_test1, test_size = 0.5, random_state = 110)"
      ],
      "execution_count": 54,
      "outputs": []
    },
    {
      "cell_type": "code",
      "metadata": {
        "colab": {
          "base_uri": "https://localhost:8080/"
        },
        "id": "i9lgfCmDAcvK",
        "outputId": "13fedc37-1e37-4aed-cc8e-70c60618fd6f"
      },
      "source": [
        "x_train1.size\n",
        "x_valid.size\n",
        "x_test1.size"
      ],
      "execution_count": null,
      "outputs": [
        {
          "output_type": "execute_result",
          "data": {
            "text/plain": [
              "30514"
            ]
          },
          "metadata": {
            "tags": []
          },
          "execution_count": 51
        }
      ]
    },
    {
      "cell_type": "code",
      "metadata": {
        "id": "FXAeIpdidwZ7"
      },
      "source": [
        "#building DNN model\n",
        "def model_builder(hp):\n",
        "  model2 = keras.models.Sequential()\n",
        "  model2.add(keras.layers.Flatten(input_shape=[11]))\n",
        "  \n",
        "# Tune the number of units in the two hidden layers:\n",
        "  hp_units_1 = hp.Int('units_1', min_value = 8, max_value = 512, step = 32)\n",
        "  model2.add(keras.layers.Dense(units = hp_units_1, activation=\"relu\", kernel_initializer=\"normal\"))\n",
        "  model2.add(keras.layers.BatchNormalization())\n",
        "  hp_units_2 = hp.Int('units_2', min_value = 8, max_value = 512, step = 32)\n",
        "  model2.add(keras.layers.Dense(units = hp_units_2, activation=\"relu\", kernel_initializer=\"normal\"))\n",
        "#  model.add(keras.layers.Dense(50 , kernel_initializer=\"normal\"))\n",
        "#  model.add(keras.layers.LeakyReLU(alpha = 0.2))\n",
        "  model2.add(keras.layers.Dense(50 , kernel_initializer=\"normal\"))\n",
        "  model2.add(keras.layers.LeakyReLU(alpha = 0.2))\n",
        "  model2.add(keras.layers.Dense(75, activation=\"selu\", kernel_initializer=\"normal\"))\n",
        "  model2.add(keras.layers.Dense(50, activation=\"selu\", kernel_initializer=\"normal\"))\n",
        "# Tune the optimizer:\n",
        "#  hp = HyperParameters()\n",
        "\n",
        "  hp_optimizer = hp.Choice('optimizer', ['Adam', 'RMSProp', 'SGD', 'Adagrad', 'Adamax'])\n",
        "  from keras.optimizers import Adam\n",
        "#  hp_learning_rate = hp.Choice('learning_rate', values = [1e-2, 1e-3, 1e-4]) \n",
        "\n",
        "#  opt = Adam(lr=0.9)\n",
        "\n",
        "  model2.compile(optimizer = hp_optimizer, \n",
        "                loss = \"mean_absolute_error\", \n",
        "                metrics = ['mae','mse'])\n",
        "  return model2\n"
      ],
      "execution_count": 117,
      "outputs": []
    },
    {
      "cell_type": "code",
      "metadata": {
        "colab": {
          "base_uri": "https://localhost:8080/",
          "height": 856
        },
        "id": "1K6cFQjqM3oY",
        "outputId": "56a2161b-d871-45d3-8aec-4b2fcaea2dbe"
      },
      "source": [
        "#f) plotting model using keras util plot\n",
        "from keras.utils import plot_model\n",
        "plot_model(model_e, to_file='fd.png', show_shapes= False, show_layer_names= True, expand_nested= True, rankdir='TB', dpi= 96)"
      ],
      "execution_count": 109,
      "outputs": [
        {
          "output_type": "execute_result",
          "data": {
            "image/png": "[encoded data removed]",
            "text/plain": [
              "<IPython.core.display.Image object>"
            ]
          },
          "metadata": {
            "tags": []
          },
          "execution_count": 109
        }
      ]
    },
    {
      "cell_type": "code",
      "metadata": {
        "id": "v6q12-VGd0jD"
      },
      "source": [
        "#Clearing output for every train\n",
        "class ClearTrainingOutput(tf.keras.callbacks.Callback):\n",
        "  def on_train_end(*args, **kwargs):\n",
        "    IPython.display.clear_output(wait = True)"
      ],
      "execution_count": 118,
      "outputs": []
    },
    {
      "cell_type": "code",
      "metadata": {
        "id": "LbRAUtfTd6M8"
      },
      "source": [
        "#Specifying metrics and objective\n",
        "tuner = kt.Hyperband(model_builder,\n",
        "                     objective = 'mae', \n",
        "                     max_epochs = 10,\n",
        "                     factor = 5,\n",
        "                     overwrite = True)"
      ],
      "execution_count": 119,
      "outputs": []
    },
    {
      "cell_type": "code",
      "metadata": {
        "colab": {
          "base_uri": "https://localhost:8080/"
        },
        "id": "OMfkT2qhd9nn",
        "outputId": "6202d9cc-6b93-4ba4-e94e-95e5eed9acba"
      },
      "source": [
        "#Running the tuner to search for best possible fit\n",
        "tuner.search(x_train1, y_train1, epochs = 100, validation_data=(x_valid, y_valid), callbacks = [ClearTrainingOutput()])"
      ],
      "execution_count": 120,
      "outputs": [
        {
          "output_type": "stream",
          "text": [
            "Trial 13 Complete [00h 00m 19s]\n",
            "mae: 4.118129253387451\n",
            "\n",
            "Best mae So Far: 4.054052829742432\n",
            "Total elapsed time: 00h 02m 24s\n",
            "INFO:tensorflow:Oracle triggered exit\n"
          ],
          "name": "stdout"
        }
      ]
    },
    {
      "cell_type": "code",
      "metadata": {
        "colab": {
          "base_uri": "https://localhost:8080/"
        },
        "id": "0eLy-TS8hIch",
        "outputId": "9d8fdf9b-2dc5-4763-ac07-6976d29445ea"
      },
      "source": [
        "#Getting the best fit \n",
        "tuner.get_best_hyperparameters()[0].values"
      ],
      "execution_count": 121,
      "outputs": [
        {
          "output_type": "execute_result",
          "data": {
            "text/plain": [
              "{'optimizer': 'Adam',\n",
              " 'tuner/bracket': 0,\n",
              " 'tuner/epochs': 10,\n",
              " 'tuner/initial_epoch': 0,\n",
              " 'tuner/round': 0,\n",
              " 'units_1': 456,\n",
              " 'units_2': 296}"
            ]
          },
          "metadata": {
            "tags": []
          },
          "execution_count": 121
        }
      ]
    },
    {
      "cell_type": "code",
      "metadata": {
        "colab": {
          "base_uri": "https://localhost:8080/"
        },
        "id": "DSL3ohw6hLV8",
        "outputId": "1b0dddc6-d816-4859-b15a-335335f0db77"
      },
      "source": [
        "#Passing the best fit variables and fitting\n",
        "best_hps = tuner.get_best_hyperparameters(num_trials = 1)[0]\n",
        "model_e = tuner.hypermodel.build(best_hps)\n",
        "history_e = model_e.fit(x_train1, y_train1, epochs = 150, validation_data = (x_valid, y_valid), verbose=1)"
      ],
      "execution_count": 122,
      "outputs": [
        {
          "output_type": "stream",
          "text": [
            "Epoch 1/150\n",
            "694/694 [==============================] - 3s 5ms/step - loss: 5.9420 - mae: 5.9420 - mse: 64.3671 - val_loss: 5.8690 - val_mae: 5.8690 - val_mse: 63.9505\n",
            "Epoch 2/150\n",
            "694/694 [==============================] - 3s 5ms/step - loss: 4.9650 - mae: 4.9650 - mse: 44.7539 - val_loss: 9.0550 - val_mae: 9.0550 - val_mse: 103.2059\n",
            "Epoch 3/150\n",
            "694/694 [==============================] - 3s 5ms/step - loss: 4.7746 - mae: 4.7746 - mse: 41.3590 - val_loss: 6.8982 - val_mae: 6.8982 - val_mse: 91.3338\n",
            "Epoch 4/150\n",
            "694/694 [==============================] - 3s 5ms/step - loss: 4.7760 - mae: 4.7760 - mse: 41.2976 - val_loss: 7.2021 - val_mae: 7.2021 - val_mse: 78.7660\n",
            "Epoch 5/150\n",
            "694/694 [==============================] - 3s 5ms/step - loss: 4.6591 - mae: 4.6591 - mse: 39.6988 - val_loss: 4.7775 - val_mae: 4.7775 - val_mse: 41.0426\n",
            "Epoch 6/150\n",
            "694/694 [==============================] - 4s 6ms/step - loss: 4.5223 - mae: 4.5223 - mse: 37.9729 - val_loss: 5.4938 - val_mae: 5.4938 - val_mse: 47.8867\n",
            "Epoch 7/150\n",
            "694/694 [==============================] - 3s 5ms/step - loss: 4.3842 - mae: 4.3842 - mse: 36.3189 - val_loss: 5.3868 - val_mae: 5.3868 - val_mse: 49.4470\n",
            "Epoch 8/150\n",
            "694/694 [==============================] - 3s 5ms/step - loss: 4.2809 - mae: 4.2809 - mse: 34.8716 - val_loss: 4.2753 - val_mae: 4.2753 - val_mse: 33.3538\n",
            "Epoch 9/150\n",
            "694/694 [==============================] - 3s 5ms/step - loss: 4.1254 - mae: 4.1254 - mse: 32.3219 - val_loss: 4.5124 - val_mae: 4.5124 - val_mse: 41.5768\n",
            "Epoch 10/150\n",
            "694/694 [==============================] - 3s 5ms/step - loss: 4.0954 - mae: 4.0954 - mse: 31.8291 - val_loss: 4.0870 - val_mae: 4.0870 - val_mse: 29.9025\n",
            "Epoch 11/150\n",
            "694/694 [==============================] - 3s 5ms/step - loss: 4.0141 - mae: 4.0141 - mse: 30.6463 - val_loss: 4.7884 - val_mae: 4.7884 - val_mse: 37.1020\n",
            "Epoch 12/150\n",
            "694/694 [==============================] - 3s 5ms/step - loss: 3.9521 - mae: 3.9521 - mse: 29.8807 - val_loss: 5.1845 - val_mae: 5.1845 - val_mse: 40.3607\n",
            "Epoch 13/150\n",
            "694/694 [==============================] - 3s 5ms/step - loss: 3.9200 - mae: 3.9200 - mse: 29.0876 - val_loss: 5.6082 - val_mae: 5.6082 - val_mse: 48.2986\n",
            "Epoch 14/150\n",
            "694/694 [==============================] - 3s 5ms/step - loss: 3.8805 - mae: 3.8805 - mse: 28.6791 - val_loss: 3.6407 - val_mae: 3.6407 - val_mse: 24.7807\n",
            "Epoch 15/150\n",
            "694/694 [==============================] - 3s 5ms/step - loss: 3.8561 - mae: 3.8561 - mse: 28.2621 - val_loss: 5.9928 - val_mae: 5.9928 - val_mse: 54.8054\n",
            "Epoch 16/150\n",
            "694/694 [==============================] - 3s 5ms/step - loss: 3.8713 - mae: 3.8713 - mse: 28.6570 - val_loss: 5.8347 - val_mae: 5.8347 - val_mse: 54.0632\n",
            "Epoch 17/150\n",
            "694/694 [==============================] - 3s 5ms/step - loss: 3.8427 - mae: 3.8427 - mse: 28.1328 - val_loss: 5.0783 - val_mae: 5.0783 - val_mse: 50.7565\n",
            "Epoch 18/150\n",
            "694/694 [==============================] - 3s 5ms/step - loss: 3.8264 - mae: 3.8264 - mse: 27.7451 - val_loss: 3.8647 - val_mae: 3.8647 - val_mse: 29.8366\n",
            "Epoch 19/150\n",
            "694/694 [==============================] - 3s 5ms/step - loss: 3.7828 - mae: 3.7828 - mse: 27.2955 - val_loss: 4.1876 - val_mae: 4.1876 - val_mse: 36.0134\n",
            "Epoch 20/150\n",
            "694/694 [==============================] - 3s 5ms/step - loss: 3.7905 - mae: 3.7905 - mse: 27.3300 - val_loss: 4.8359 - val_mae: 4.8359 - val_mse: 46.0658\n",
            "Epoch 21/150\n",
            "694/694 [==============================] - 3s 5ms/step - loss: 3.7385 - mae: 3.7385 - mse: 26.6692 - val_loss: 4.1458 - val_mae: 4.1458 - val_mse: 30.4823\n",
            "Epoch 22/150\n",
            "694/694 [==============================] - 3s 5ms/step - loss: 3.7034 - mae: 3.7034 - mse: 26.2696 - val_loss: 3.5711 - val_mae: 3.5711 - val_mse: 23.5723\n",
            "Epoch 23/150\n",
            "694/694 [==============================] - 3s 5ms/step - loss: 3.6918 - mae: 3.6918 - mse: 26.0391 - val_loss: 4.6469 - val_mae: 4.6469 - val_mse: 39.1266\n",
            "Epoch 24/150\n",
            "694/694 [==============================] - 3s 5ms/step - loss: 3.6552 - mae: 3.6552 - mse: 25.6263 - val_loss: 3.5638 - val_mae: 3.5638 - val_mse: 24.7358\n",
            "Epoch 25/150\n",
            "694/694 [==============================] - 3s 5ms/step - loss: 3.6592 - mae: 3.6592 - mse: 25.9538 - val_loss: 4.7777 - val_mae: 4.7777 - val_mse: 45.3398\n",
            "Epoch 26/150\n",
            "694/694 [==============================] - 3s 5ms/step - loss: 3.6240 - mae: 3.6240 - mse: 25.5349 - val_loss: 4.3486 - val_mae: 4.3486 - val_mse: 37.2832\n",
            "Epoch 27/150\n",
            "694/694 [==============================] - 3s 5ms/step - loss: 3.5814 - mae: 3.5814 - mse: 24.8427 - val_loss: 3.6578 - val_mae: 3.6578 - val_mse: 26.7858\n",
            "Epoch 28/150\n",
            "694/694 [==============================] - 3s 5ms/step - loss: 3.5850 - mae: 3.5850 - mse: 24.8558 - val_loss: 5.0284 - val_mae: 5.0284 - val_mse: 52.0559\n",
            "Epoch 29/150\n",
            "694/694 [==============================] - 3s 5ms/step - loss: 3.5776 - mae: 3.5776 - mse: 24.8369 - val_loss: 4.1259 - val_mae: 4.1259 - val_mse: 34.8549\n",
            "Epoch 30/150\n",
            "694/694 [==============================] - 3s 5ms/step - loss: 3.5530 - mae: 3.5530 - mse: 24.5793 - val_loss: 3.8191 - val_mae: 3.8191 - val_mse: 30.0553\n",
            "Epoch 31/150\n",
            "694/694 [==============================] - 3s 5ms/step - loss: 3.5150 - mae: 3.5150 - mse: 24.1042 - val_loss: 3.8223 - val_mae: 3.8223 - val_mse: 29.0627\n",
            "Epoch 32/150\n",
            "694/694 [==============================] - 3s 5ms/step - loss: 3.5192 - mae: 3.5192 - mse: 24.1741 - val_loss: 3.6504 - val_mae: 3.6504 - val_mse: 25.3272\n",
            "Epoch 33/150\n",
            "694/694 [==============================] - 3s 5ms/step - loss: 3.5040 - mae: 3.5040 - mse: 24.0305 - val_loss: 3.3998 - val_mae: 3.3998 - val_mse: 22.8041\n",
            "Epoch 34/150\n",
            "694/694 [==============================] - 3s 5ms/step - loss: 3.4918 - mae: 3.4918 - mse: 23.8889 - val_loss: 3.8663 - val_mae: 3.8663 - val_mse: 27.9133\n",
            "Epoch 35/150\n",
            "694/694 [==============================] - 3s 5ms/step - loss: 3.4748 - mae: 3.4748 - mse: 23.8475 - val_loss: 4.6822 - val_mae: 4.6822 - val_mse: 44.5651\n",
            "Epoch 36/150\n",
            "694/694 [==============================] - 3s 5ms/step - loss: 3.4420 - mae: 3.4420 - mse: 23.3165 - val_loss: 4.3549 - val_mae: 4.3549 - val_mse: 36.0033\n",
            "Epoch 37/150\n",
            "694/694 [==============================] - 3s 5ms/step - loss: 3.4213 - mae: 3.4213 - mse: 23.1396 - val_loss: 3.6149 - val_mae: 3.6149 - val_mse: 27.0133\n",
            "Epoch 38/150\n",
            "694/694 [==============================] - 3s 5ms/step - loss: 3.4159 - mae: 3.4159 - mse: 23.0584 - val_loss: 3.4960 - val_mae: 3.4960 - val_mse: 23.4814\n",
            "Epoch 39/150\n",
            "694/694 [==============================] - 3s 5ms/step - loss: 3.4185 - mae: 3.4185 - mse: 23.2502 - val_loss: 3.7931 - val_mae: 3.7931 - val_mse: 29.2044\n",
            "Epoch 40/150\n",
            "694/694 [==============================] - 3s 5ms/step - loss: 3.4126 - mae: 3.4126 - mse: 23.1219 - val_loss: 5.0622 - val_mae: 5.0622 - val_mse: 41.9222\n",
            "Epoch 41/150\n",
            "694/694 [==============================] - 3s 5ms/step - loss: 3.3710 - mae: 3.3710 - mse: 22.4329 - val_loss: 3.1407 - val_mae: 3.1407 - val_mse: 20.7688\n",
            "Epoch 42/150\n",
            "694/694 [==============================] - 3s 5ms/step - loss: 3.3385 - mae: 3.3385 - mse: 22.1119 - val_loss: 3.8042 - val_mae: 3.8042 - val_mse: 31.1044\n",
            "Epoch 43/150\n",
            "694/694 [==============================] - 3s 5ms/step - loss: 3.3281 - mae: 3.3281 - mse: 22.1740 - val_loss: 3.1261 - val_mae: 3.1261 - val_mse: 20.1393\n",
            "Epoch 44/150\n",
            "694/694 [==============================] - 3s 5ms/step - loss: 3.3110 - mae: 3.3110 - mse: 21.8974 - val_loss: 5.1174 - val_mae: 5.1174 - val_mse: 43.6231\n",
            "Epoch 45/150\n",
            "694/694 [==============================] - 3s 5ms/step - loss: 3.2928 - mae: 3.2928 - mse: 21.6187 - val_loss: 3.1424 - val_mae: 3.1424 - val_mse: 20.1902\n",
            "Epoch 46/150\n",
            "694/694 [==============================] - 3s 5ms/step - loss: 3.2865 - mae: 3.2865 - mse: 21.5782 - val_loss: 3.2172 - val_mae: 3.2172 - val_mse: 20.3562\n",
            "Epoch 47/150\n",
            "694/694 [==============================] - 3s 5ms/step - loss: 3.2810 - mae: 3.2810 - mse: 21.5268 - val_loss: 4.1735 - val_mae: 4.1735 - val_mse: 37.6702\n",
            "Epoch 48/150\n",
            "694/694 [==============================] - 3s 5ms/step - loss: 3.2579 - mae: 3.2579 - mse: 21.1924 - val_loss: 3.9650 - val_mae: 3.9650 - val_mse: 29.6343\n",
            "Epoch 49/150\n",
            "694/694 [==============================] - 3s 5ms/step - loss: 3.2074 - mae: 3.2074 - mse: 20.6847 - val_loss: 3.5863 - val_mae: 3.5863 - val_mse: 27.6065\n",
            "Epoch 50/150\n",
            "694/694 [==============================] - 4s 5ms/step - loss: 3.2278 - mae: 3.2278 - mse: 20.6987 - val_loss: 3.5383 - val_mae: 3.5383 - val_mse: 28.9628\n",
            "Epoch 51/150\n",
            "694/694 [==============================] - 3s 5ms/step - loss: 3.2248 - mae: 3.2248 - mse: 21.0291 - val_loss: 6.7866 - val_mae: 6.7866 - val_mse: 77.8213\n",
            "Epoch 52/150\n",
            "694/694 [==============================] - 3s 5ms/step - loss: 3.1834 - mae: 3.1834 - mse: 20.2973 - val_loss: 2.9873 - val_mae: 2.9873 - val_mse: 18.8286\n",
            "Epoch 53/150\n",
            "694/694 [==============================] - 3s 5ms/step - loss: 3.1846 - mae: 3.1846 - mse: 20.3014 - val_loss: 3.8963 - val_mae: 3.8963 - val_mse: 29.0192\n",
            "Epoch 54/150\n",
            "694/694 [==============================] - 3s 5ms/step - loss: 3.2108 - mae: 3.2108 - mse: 20.6176 - val_loss: 3.1509 - val_mae: 3.1509 - val_mse: 20.3133\n",
            "Epoch 55/150\n",
            "694/694 [==============================] - 3s 5ms/step - loss: 3.1649 - mae: 3.1649 - mse: 20.1306 - val_loss: 3.4421 - val_mae: 3.4421 - val_mse: 26.1336\n",
            "Epoch 56/150\n",
            "694/694 [==============================] - 3s 5ms/step - loss: 3.1274 - mae: 3.1274 - mse: 19.6984 - val_loss: 4.1233 - val_mae: 4.1233 - val_mse: 31.4633\n",
            "Epoch 57/150\n",
            "694/694 [==============================] - 3s 5ms/step - loss: 3.1606 - mae: 3.1606 - mse: 20.1555 - val_loss: 3.1617 - val_mae: 3.1617 - val_mse: 20.2638\n",
            "Epoch 58/150\n",
            "694/694 [==============================] - 3s 5ms/step - loss: 3.1557 - mae: 3.1557 - mse: 20.0943 - val_loss: 3.3637 - val_mae: 3.3637 - val_mse: 23.1307\n",
            "Epoch 59/150\n",
            "694/694 [==============================] - 3s 5ms/step - loss: 3.1491 - mae: 3.1491 - mse: 19.8435 - val_loss: 3.7177 - val_mae: 3.7177 - val_mse: 28.9202\n",
            "Epoch 60/150\n",
            "694/694 [==============================] - 3s 5ms/step - loss: 3.1123 - mae: 3.1123 - mse: 19.5044 - val_loss: 4.4643 - val_mae: 4.4643 - val_mse: 43.0334\n",
            "Epoch 61/150\n",
            "694/694 [==============================] - 3s 5ms/step - loss: 3.1105 - mae: 3.1105 - mse: 19.5354 - val_loss: 3.1959 - val_mae: 3.1959 - val_mse: 20.7500\n",
            "Epoch 62/150\n",
            "694/694 [==============================] - 3s 5ms/step - loss: 3.0874 - mae: 3.0874 - mse: 19.1941 - val_loss: 3.3506 - val_mae: 3.3506 - val_mse: 24.8125\n",
            "Epoch 63/150\n",
            "694/694 [==============================] - 3s 5ms/step - loss: 3.0762 - mae: 3.0762 - mse: 19.1639 - val_loss: 3.8372 - val_mae: 3.8372 - val_mse: 28.9004\n",
            "Epoch 64/150\n",
            "694/694 [==============================] - 3s 5ms/step - loss: 3.0740 - mae: 3.0740 - mse: 19.2688 - val_loss: 5.2237 - val_mae: 5.2237 - val_mse: 54.0654\n",
            "Epoch 65/150\n",
            "694/694 [==============================] - 3s 5ms/step - loss: 3.0850 - mae: 3.0850 - mse: 19.2276 - val_loss: 3.1431 - val_mae: 3.1431 - val_mse: 21.0599\n",
            "Epoch 66/150\n",
            "694/694 [==============================] - 3s 5ms/step - loss: 3.0685 - mae: 3.0685 - mse: 19.0848 - val_loss: 3.1186 - val_mae: 3.1186 - val_mse: 19.4941\n",
            "Epoch 67/150\n",
            "694/694 [==============================] - 3s 5ms/step - loss: 3.0693 - mae: 3.0693 - mse: 19.1831 - val_loss: 2.9614 - val_mae: 2.9614 - val_mse: 18.8729\n",
            "Epoch 68/150\n",
            "694/694 [==============================] - 3s 5ms/step - loss: 3.0627 - mae: 3.0627 - mse: 19.0727 - val_loss: 2.8231 - val_mae: 2.8231 - val_mse: 17.1843\n",
            "Epoch 69/150\n",
            "694/694 [==============================] - 3s 5ms/step - loss: 3.0307 - mae: 3.0307 - mse: 18.7181 - val_loss: 3.3147 - val_mae: 3.3147 - val_mse: 23.3404\n",
            "Epoch 70/150\n",
            "694/694 [==============================] - 3s 5ms/step - loss: 3.0210 - mae: 3.0210 - mse: 18.6851 - val_loss: 3.4451 - val_mae: 3.4451 - val_mse: 22.7085\n",
            "Epoch 71/150\n",
            "694/694 [==============================] - 3s 5ms/step - loss: 3.0436 - mae: 3.0436 - mse: 18.9568 - val_loss: 3.6172 - val_mae: 3.6172 - val_mse: 28.9838\n",
            "Epoch 72/150\n",
            "694/694 [==============================] - 3s 5ms/step - loss: 3.0099 - mae: 3.0099 - mse: 18.4510 - val_loss: 3.4800 - val_mae: 3.4800 - val_mse: 26.1234\n",
            "Epoch 73/150\n",
            "694/694 [==============================] - 3s 5ms/step - loss: 2.9781 - mae: 2.9781 - mse: 18.1136 - val_loss: 3.6059 - val_mae: 3.6059 - val_mse: 27.2713\n",
            "Epoch 74/150\n",
            "694/694 [==============================] - 4s 5ms/step - loss: 3.0247 - mae: 3.0247 - mse: 18.7174 - val_loss: 3.7167 - val_mae: 3.7167 - val_mse: 27.6685\n",
            "Epoch 75/150\n",
            "694/694 [==============================] - 4s 5ms/step - loss: 3.0094 - mae: 3.0094 - mse: 18.6830 - val_loss: 2.9406 - val_mae: 2.9406 - val_mse: 18.8817\n",
            "Epoch 76/150\n",
            "694/694 [==============================] - 4s 5ms/step - loss: 3.0017 - mae: 3.0017 - mse: 18.5303 - val_loss: 3.8646 - val_mae: 3.8646 - val_mse: 30.4316\n",
            "Epoch 77/150\n",
            "694/694 [==============================] - 3s 5ms/step - loss: 2.9827 - mae: 2.9827 - mse: 18.3020 - val_loss: 2.8610 - val_mae: 2.8610 - val_mse: 18.0560\n",
            "Epoch 78/150\n",
            "694/694 [==============================] - 3s 5ms/step - loss: 2.9971 - mae: 2.9971 - mse: 18.3443 - val_loss: 3.8867 - val_mae: 3.8867 - val_mse: 32.7312\n",
            "Epoch 79/150\n",
            "694/694 [==============================] - 3s 5ms/step - loss: 2.9866 - mae: 2.9866 - mse: 18.1029 - val_loss: 3.0116 - val_mae: 3.0116 - val_mse: 18.7998\n",
            "Epoch 80/150\n",
            "694/694 [==============================] - 3s 5ms/step - loss: 2.9679 - mae: 2.9679 - mse: 18.0553 - val_loss: 2.8983 - val_mae: 2.8983 - val_mse: 18.8661\n",
            "Epoch 81/150\n",
            "694/694 [==============================] - 3s 5ms/step - loss: 2.9494 - mae: 2.9494 - mse: 17.8296 - val_loss: 4.4295 - val_mae: 4.4295 - val_mse: 40.9439\n",
            "Epoch 82/150\n",
            "694/694 [==============================] - 3s 5ms/step - loss: 2.9737 - mae: 2.9737 - mse: 18.1743 - val_loss: 2.8148 - val_mae: 2.8148 - val_mse: 17.2091\n",
            "Epoch 83/150\n",
            "694/694 [==============================] - 3s 5ms/step - loss: 2.9655 - mae: 2.9655 - mse: 18.1281 - val_loss: 4.5421 - val_mae: 4.5421 - val_mse: 39.0446\n",
            "Epoch 84/150\n",
            "694/694 [==============================] - 3s 5ms/step - loss: 2.9723 - mae: 2.9723 - mse: 18.0186 - val_loss: 3.1258 - val_mae: 3.1258 - val_mse: 19.7703\n",
            "Epoch 85/150\n",
            "694/694 [==============================] - 4s 6ms/step - loss: 2.9823 - mae: 2.9823 - mse: 18.2169 - val_loss: 3.5382 - val_mae: 3.5382 - val_mse: 24.8198\n",
            "Epoch 86/150\n",
            "694/694 [==============================] - 4s 6ms/step - loss: 2.9569 - mae: 2.9569 - mse: 18.0219 - val_loss: 4.3725 - val_mae: 4.3725 - val_mse: 36.1213\n",
            "Epoch 87/150\n",
            "694/694 [==============================] - 4s 5ms/step - loss: 2.9773 - mae: 2.9773 - mse: 18.1597 - val_loss: 4.1993 - val_mae: 4.1993 - val_mse: 32.7927\n",
            "Epoch 88/150\n",
            "694/694 [==============================] - 4s 5ms/step - loss: 2.9524 - mae: 2.9524 - mse: 18.0298 - val_loss: 3.3903 - val_mae: 3.3903 - val_mse: 24.9140\n",
            "Epoch 89/150\n",
            "694/694 [==============================] - 4s 5ms/step - loss: 2.9378 - mae: 2.9378 - mse: 17.6106 - val_loss: 3.0333 - val_mae: 3.0333 - val_mse: 20.2354\n",
            "Epoch 90/150\n",
            "694/694 [==============================] - 4s 5ms/step - loss: 2.9333 - mae: 2.9333 - mse: 17.7447 - val_loss: 3.2652 - val_mae: 3.2652 - val_mse: 20.7150\n",
            "Epoch 91/150\n",
            "694/694 [==============================] - 3s 5ms/step - loss: 2.9291 - mae: 2.9291 - mse: 17.6848 - val_loss: 3.0822 - val_mae: 3.0822 - val_mse: 19.7698\n",
            "Epoch 92/150\n",
            "694/694 [==============================] - 3s 5ms/step - loss: 2.9642 - mae: 2.9642 - mse: 18.1036 - val_loss: 3.0389 - val_mae: 3.0389 - val_mse: 19.8902\n",
            "Epoch 93/150\n",
            "694/694 [==============================] - 3s 5ms/step - loss: 2.9213 - mae: 2.9213 - mse: 17.5066 - val_loss: 2.6933 - val_mae: 2.6933 - val_mse: 15.6997\n",
            "Epoch 94/150\n",
            "694/694 [==============================] - 3s 5ms/step - loss: 2.9197 - mae: 2.9197 - mse: 17.6253 - val_loss: 2.8493 - val_mae: 2.8493 - val_mse: 16.9628\n",
            "Epoch 95/150\n",
            "694/694 [==============================] - 3s 5ms/step - loss: 2.9135 - mae: 2.9135 - mse: 17.5717 - val_loss: 4.7228 - val_mae: 4.7228 - val_mse: 41.8895\n",
            "Epoch 96/150\n",
            "694/694 [==============================] - 3s 5ms/step - loss: 2.9295 - mae: 2.9295 - mse: 17.6880 - val_loss: 2.8607 - val_mae: 2.8607 - val_mse: 17.8972\n",
            "Epoch 97/150\n",
            "694/694 [==============================] - 3s 5ms/step - loss: 2.9244 - mae: 2.9244 - mse: 17.5931 - val_loss: 3.1366 - val_mae: 3.1366 - val_mse: 22.1680\n",
            "Epoch 98/150\n",
            "694/694 [==============================] - 3s 5ms/step - loss: 2.9356 - mae: 2.9356 - mse: 17.8723 - val_loss: 3.1074 - val_mae: 3.1074 - val_mse: 19.3653\n",
            "Epoch 99/150\n",
            "694/694 [==============================] - 3s 5ms/step - loss: 2.8947 - mae: 2.8947 - mse: 17.3079 - val_loss: 3.3578 - val_mae: 3.3578 - val_mse: 21.9000\n",
            "Epoch 100/150\n",
            "694/694 [==============================] - 3s 5ms/step - loss: 2.8943 - mae: 2.8943 - mse: 17.3535 - val_loss: 2.8628 - val_mae: 2.8628 - val_mse: 17.6855\n",
            "Epoch 101/150\n",
            "694/694 [==============================] - 3s 5ms/step - loss: 2.8776 - mae: 2.8776 - mse: 17.0571 - val_loss: 2.7642 - val_mae: 2.7642 - val_mse: 16.8979\n",
            "Epoch 102/150\n",
            "694/694 [==============================] - 3s 5ms/step - loss: 2.8880 - mae: 2.8880 - mse: 17.2077 - val_loss: 2.8419 - val_mae: 2.8419 - val_mse: 17.9061\n",
            "Epoch 103/150\n",
            "694/694 [==============================] - 3s 5ms/step - loss: 2.9027 - mae: 2.9027 - mse: 17.4343 - val_loss: 3.1352 - val_mae: 3.1352 - val_mse: 19.7550\n",
            "Epoch 104/150\n",
            "694/694 [==============================] - 3s 5ms/step - loss: 2.8776 - mae: 2.8776 - mse: 17.1871 - val_loss: 3.0195 - val_mae: 3.0195 - val_mse: 18.6601\n",
            "Epoch 105/150\n",
            "694/694 [==============================] - 3s 5ms/step - loss: 2.8936 - mae: 2.8936 - mse: 17.4257 - val_loss: 2.9208 - val_mae: 2.9208 - val_mse: 17.8004\n",
            "Epoch 106/150\n",
            "694/694 [==============================] - 3s 5ms/step - loss: 2.8724 - mae: 2.8724 - mse: 16.9865 - val_loss: 3.0846 - val_mae: 3.0846 - val_mse: 19.6464\n",
            "Epoch 107/150\n",
            "694/694 [==============================] - 3s 5ms/step - loss: 2.8629 - mae: 2.8629 - mse: 17.0404 - val_loss: 2.8862 - val_mae: 2.8862 - val_mse: 17.9134\n",
            "Epoch 108/150\n",
            "694/694 [==============================] - 3s 5ms/step - loss: 2.8831 - mae: 2.8831 - mse: 17.2558 - val_loss: 3.5106 - val_mae: 3.5106 - val_mse: 28.3832\n",
            "Epoch 109/150\n",
            "694/694 [==============================] - 3s 5ms/step - loss: 2.8769 - mae: 2.8769 - mse: 17.1354 - val_loss: 3.6028 - val_mae: 3.6028 - val_mse: 25.3766\n",
            "Epoch 110/150\n",
            "694/694 [==============================] - 3s 5ms/step - loss: 2.8483 - mae: 2.8483 - mse: 16.9060 - val_loss: 4.6188 - val_mae: 4.6188 - val_mse: 45.8012\n",
            "Epoch 111/150\n",
            "694/694 [==============================] - 3s 5ms/step - loss: 2.8539 - mae: 2.8539 - mse: 16.8834 - val_loss: 2.8877 - val_mae: 2.8877 - val_mse: 17.7167\n",
            "Epoch 112/150\n",
            "694/694 [==============================] - 3s 5ms/step - loss: 2.8648 - mae: 2.8648 - mse: 16.9549 - val_loss: 3.4322 - val_mae: 3.4322 - val_mse: 27.4876\n",
            "Epoch 113/150\n",
            "694/694 [==============================] - 3s 5ms/step - loss: 2.8438 - mae: 2.8438 - mse: 16.8356 - val_loss: 2.9072 - val_mae: 2.9072 - val_mse: 18.3810\n",
            "Epoch 114/150\n",
            "694/694 [==============================] - 3s 5ms/step - loss: 2.8435 - mae: 2.8435 - mse: 16.9297 - val_loss: 2.6929 - val_mae: 2.6929 - val_mse: 15.8779\n",
            "Epoch 115/150\n",
            "694/694 [==============================] - 3s 5ms/step - loss: 2.8514 - mae: 2.8514 - mse: 16.9618 - val_loss: 2.8703 - val_mae: 2.8703 - val_mse: 17.8130\n",
            "Epoch 116/150\n",
            "694/694 [==============================] - 3s 5ms/step - loss: 2.8378 - mae: 2.8378 - mse: 16.8581 - val_loss: 3.1831 - val_mae: 3.1831 - val_mse: 19.8483\n",
            "Epoch 117/150\n",
            "694/694 [==============================] - 3s 5ms/step - loss: 2.8292 - mae: 2.8292 - mse: 16.6673 - val_loss: 2.9245 - val_mae: 2.9245 - val_mse: 19.3246\n",
            "Epoch 118/150\n",
            "694/694 [==============================] - 3s 5ms/step - loss: 2.8416 - mae: 2.8416 - mse: 16.8041 - val_loss: 2.9380 - val_mae: 2.9380 - val_mse: 19.2854\n",
            "Epoch 119/150\n",
            "694/694 [==============================] - 3s 5ms/step - loss: 2.8622 - mae: 2.8622 - mse: 17.0049 - val_loss: 3.0979 - val_mae: 3.0979 - val_mse: 21.0092\n",
            "Epoch 120/150\n",
            "694/694 [==============================] - 3s 5ms/step - loss: 2.8364 - mae: 2.8364 - mse: 16.7062 - val_loss: 2.6197 - val_mae: 2.6197 - val_mse: 15.3972\n",
            "Epoch 121/150\n",
            "694/694 [==============================] - 3s 5ms/step - loss: 2.8402 - mae: 2.8402 - mse: 16.7381 - val_loss: 3.0388 - val_mae: 3.0388 - val_mse: 20.7621\n",
            "Epoch 122/150\n",
            "694/694 [==============================] - 3s 5ms/step - loss: 2.8520 - mae: 2.8520 - mse: 16.9658 - val_loss: 3.0379 - val_mae: 3.0379 - val_mse: 18.2346\n",
            "Epoch 123/150\n",
            "694/694 [==============================] - 3s 5ms/step - loss: 2.8204 - mae: 2.8204 - mse: 16.5713 - val_loss: 3.0851 - val_mae: 3.0851 - val_mse: 21.4354\n",
            "Epoch 124/150\n",
            "694/694 [==============================] - 3s 5ms/step - loss: 2.8160 - mae: 2.8160 - mse: 16.6191 - val_loss: 2.7348 - val_mae: 2.7348 - val_mse: 16.0780\n",
            "Epoch 125/150\n",
            "694/694 [==============================] - 3s 5ms/step - loss: 2.8292 - mae: 2.8292 - mse: 16.6964 - val_loss: 3.6361 - val_mae: 3.6361 - val_mse: 28.1057\n",
            "Epoch 126/150\n",
            "694/694 [==============================] - 3s 5ms/step - loss: 2.8465 - mae: 2.8465 - mse: 16.8738 - val_loss: 2.9220 - val_mae: 2.9220 - val_mse: 18.6517\n",
            "Epoch 127/150\n",
            "694/694 [==============================] - 3s 5ms/step - loss: 2.8358 - mae: 2.8358 - mse: 16.8432 - val_loss: 3.0344 - val_mae: 3.0344 - val_mse: 19.9458\n",
            "Epoch 128/150\n",
            "694/694 [==============================] - 3s 5ms/step - loss: 2.8285 - mae: 2.8285 - mse: 16.7609 - val_loss: 3.5009 - val_mae: 3.5009 - val_mse: 24.2053\n",
            "Epoch 129/150\n",
            "694/694 [==============================] - 3s 5ms/step - loss: 2.8150 - mae: 2.8150 - mse: 16.5540 - val_loss: 2.7421 - val_mae: 2.7421 - val_mse: 16.6410\n",
            "Epoch 130/150\n",
            "694/694 [==============================] - 3s 5ms/step - loss: 2.8033 - mae: 2.8033 - mse: 16.4270 - val_loss: 3.0943 - val_mae: 3.0943 - val_mse: 21.2894\n",
            "Epoch 131/150\n",
            "694/694 [==============================] - 3s 5ms/step - loss: 2.7975 - mae: 2.7975 - mse: 16.2433 - val_loss: 3.2012 - val_mae: 3.2012 - val_mse: 23.4761\n",
            "Epoch 132/150\n",
            "694/694 [==============================] - 3s 5ms/step - loss: 2.8030 - mae: 2.8030 - mse: 16.3624 - val_loss: 2.9216 - val_mae: 2.9216 - val_mse: 17.7167\n",
            "Epoch 133/150\n",
            "694/694 [==============================] - 3s 5ms/step - loss: 2.8283 - mae: 2.8283 - mse: 16.7975 - val_loss: 3.3659 - val_mae: 3.3659 - val_mse: 25.5038\n",
            "Epoch 134/150\n",
            "694/694 [==============================] - 3s 5ms/step - loss: 2.8353 - mae: 2.8353 - mse: 16.7754 - val_loss: 2.6220 - val_mae: 2.6220 - val_mse: 15.5643\n",
            "Epoch 135/150\n",
            "694/694 [==============================] - 3s 5ms/step - loss: 2.8150 - mae: 2.8150 - mse: 16.4773 - val_loss: 2.8110 - val_mae: 2.8110 - val_mse: 17.6145\n",
            "Epoch 136/150\n",
            "694/694 [==============================] - 3s 5ms/step - loss: 2.7985 - mae: 2.7985 - mse: 16.4169 - val_loss: 3.0083 - val_mae: 3.0083 - val_mse: 20.6738\n",
            "Epoch 137/150\n",
            "694/694 [==============================] - 3s 5ms/step - loss: 2.8080 - mae: 2.8080 - mse: 16.5430 - val_loss: 3.0833 - val_mae: 3.0833 - val_mse: 19.1113\n",
            "Epoch 138/150\n",
            "694/694 [==============================] - 3s 5ms/step - loss: 2.8000 - mae: 2.8000 - mse: 16.3352 - val_loss: 3.7860 - val_mae: 3.7860 - val_mse: 25.7381\n",
            "Epoch 139/150\n",
            "694/694 [==============================] - 3s 5ms/step - loss: 2.8007 - mae: 2.8007 - mse: 16.3750 - val_loss: 2.6042 - val_mae: 2.6042 - val_mse: 15.0236\n",
            "Epoch 140/150\n",
            "694/694 [==============================] - 3s 5ms/step - loss: 2.8112 - mae: 2.8112 - mse: 16.5194 - val_loss: 2.5943 - val_mae: 2.5943 - val_mse: 15.1583\n",
            "Epoch 141/150\n",
            "694/694 [==============================] - 3s 5ms/step - loss: 2.8227 - mae: 2.8227 - mse: 16.5203 - val_loss: 3.0166 - val_mae: 3.0166 - val_mse: 18.6428\n",
            "Epoch 142/150\n",
            "694/694 [==============================] - 4s 5ms/step - loss: 2.7936 - mae: 2.7936 - mse: 16.2142 - val_loss: 2.8468 - val_mae: 2.8468 - val_mse: 16.9878\n",
            "Epoch 143/150\n",
            "694/694 [==============================] - 4s 5ms/step - loss: 2.8038 - mae: 2.8038 - mse: 16.4450 - val_loss: 3.6889 - val_mae: 3.6889 - val_mse: 26.0068\n",
            "Epoch 144/150\n",
            "694/694 [==============================] - 3s 5ms/step - loss: 2.8002 - mae: 2.8002 - mse: 16.4463 - val_loss: 2.6037 - val_mae: 2.6037 - val_mse: 15.1522\n",
            "Epoch 145/150\n",
            "694/694 [==============================] - 3s 5ms/step - loss: 2.7627 - mae: 2.7627 - mse: 16.1096 - val_loss: 3.1334 - val_mae: 3.1334 - val_mse: 19.4879\n",
            "Epoch 146/150\n",
            "694/694 [==============================] - 3s 5ms/step - loss: 2.7862 - mae: 2.7862 - mse: 16.1706 - val_loss: 2.7774 - val_mae: 2.7774 - val_mse: 17.1377\n",
            "Epoch 147/150\n",
            "694/694 [==============================] - 3s 5ms/step - loss: 2.7733 - mae: 2.7733 - mse: 16.0859 - val_loss: 2.8138 - val_mae: 2.8138 - val_mse: 17.1190\n",
            "Epoch 148/150\n",
            "694/694 [==============================] - 3s 5ms/step - loss: 2.7695 - mae: 2.7695 - mse: 16.0945 - val_loss: 3.3816 - val_mae: 3.3816 - val_mse: 21.8659\n",
            "Epoch 149/150\n",
            "694/694 [==============================] - 3s 5ms/step - loss: 2.7682 - mae: 2.7682 - mse: 16.1293 - val_loss: 2.6753 - val_mae: 2.6753 - val_mse: 15.6370\n",
            "Epoch 150/150\n",
            "694/694 [==============================] - 3s 5ms/step - loss: 2.7610 - mae: 2.7610 - mse: 15.9740 - val_loss: 2.8684 - val_mae: 2.8684 - val_mse: 17.5137\n"
          ],
          "name": "stdout"
        }
      ]
    },
    {
      "cell_type": "code",
      "metadata": {
        "colab": {
          "base_uri": "https://localhost:8080/",
          "height": 324
        },
        "id": "htDtJGAsv0h6",
        "outputId": "a2c2f245-036a-418f-8114-5274c15881c7"
      },
      "source": [
        "#Plotting graph for loss, mae, val_loss and val_mae\n",
        "import matplotlib.pyplot as plt\n",
        "pd.DataFrame(history_e.history).plot(figsize=(8, 5))\n",
        "plt.grid(True)\n",
        "plt.gca().set_ylim(0, 10)\n",
        "plt.show()"
      ],
      "execution_count": 123,
      "outputs": [
        {
          "output_type": "display_data",
          "data": {
            "image/png": "[encoded data removed]",
            "text/plain": [
              "<Figure size 576x360 with 1 Axes>"
            ]
          },
          "metadata": {
            "tags": [],
            "needs_background": "light"
          }
        }
      ]
    },
    {
      "cell_type": "code",
      "metadata": {
        "colab": {
          "base_uri": "https://localhost:8080/",
          "height": 395
        },
        "id": "beEhD28ZMj2K",
        "outputId": "85590d48-1bfd-4bac-ba03-093f52d1653a"
      },
      "source": [
        "#plotting prediction and actual price\n",
        "plt.scatter(x_test.year, y_test, color = \"blue\")\n",
        "plt.scatter(x_test.year, y_pred2, color = \"red\")\n",
        "plt.xlabel('Years after 1900')\n",
        "plt.ylabel('Price')\n",
        "plt.legend()\n",
        "plt.show()"
      ],
      "execution_count": 30,
      "outputs": [
        {
          "output_type": "stream",
          "text": [
            "No handles with labels found to put in legend.\n"
          ],
          "name": "stderr"
        },
        {
          "output_type": "display_data",
          "data": {
            "image/png": "[encoded data removed]",
            "text/plain": [
              "<Figure size 600x400 with 1 Axes>"
            ]
          },
          "metadata": {
            "tags": []
          }
        }
      ]
    },
    {
      "cell_type": "code",
      "metadata": {
        "colab": {
          "base_uri": "https://localhost:8080/",
          "height": 395
        },
        "id": "lCYGJS-RawU4",
        "outputId": "8a5be5bb-5d49-4296-a2a8-c203cea4f1c4"
      },
      "source": [
        "#plotting prediction and actual price\n",
        "import matplotlib.pyplot as plt\n",
        "\n",
        "plt.scatter(y_test, regressor.predict(x_test), color = \"red\")\n",
        "plt.scatter(y_train, regressor.predict(x_train), color = \"blue\")\n",
        "plt.xlabel('Years after 1900')\n",
        "plt.ylabel('Price')\n",
        "plt.legend()\n",
        "plt.show()"
      ],
      "execution_count": 26,
      "outputs": [
        {
          "output_type": "stream",
          "text": [
            "No handles with labels found to put in legend.\n"
          ],
          "name": "stderr"
        },
        {
          "output_type": "display_data",
          "data": {
            "image/png": "[encoded data removed]",
            "text/plain": [
              "<Figure size 600x400 with 1 Axes>"
            ]
          },
          "metadata": {
            "tags": []
          }
        }
      ]
    },
    {
      "cell_type": "code",
      "metadata": {
        "colab": {
          "base_uri": "https://localhost:8080/",
          "height": 395
        },
        "id": "ISVrkiNlPiu4",
        "outputId": "310bda73-00ba-4ba8-c065-9b3625a2ee56"
      },
      "source": [
        "#plotting prediction and actual price\n",
        "plt.scatter(x_test.cylinders, y_test, color = \"blue\")\n",
        "plt.scatter(x_test.cylinders, y_pred2, color = \"red\")\n",
        "plt.xlabel('Cylinders')\n",
        "plt.ylabel('Price')\n",
        "plt.legend()\n",
        "plt.show()"
      ],
      "execution_count": 32,
      "outputs": [
        {
          "output_type": "stream",
          "text": [
            "No handles with labels found to put in legend.\n"
          ],
          "name": "stderr"
        },
        {
          "output_type": "display_data",
          "data": {
            "image/png": "[encoded data removed]",
            "text/plain": [
              "<Figure size 600x400 with 1 Axes>"
            ]
          },
          "metadata": {
            "tags": []
          }
        }
      ]
    },
    {
      "cell_type": "code",
      "metadata": {
        "colab": {
          "base_uri": "https://localhost:8080/",
          "height": 395
        },
        "id": "aBOZbGETdZ9Y",
        "outputId": "fcfaa008-ccc8-4a52-abfb-1573e5281bb1"
      },
      "source": [
        "#plotting prediction and actual price\n",
        "plt.scatter(x_test['size'], y_test, color = \"blue\")\n",
        "plt.scatter(x_test['size'], y_pred2, color = \"red\")\n",
        "plt.xlabel('size')\n",
        "plt.ylabel('Price')\n",
        "plt.legend()\n",
        "plt.show()"
      ],
      "execution_count": 39,
      "outputs": [
        {
          "output_type": "stream",
          "text": [
            "No handles with labels found to put in legend.\n"
          ],
          "name": "stderr"
        },
        {
          "output_type": "display_data",
          "data": {
            "image/png": "[encoded data removed]",
            "text/plain": [
              "<Figure size 600x400 with 1 Axes>"
            ]
          },
          "metadata": {
            "tags": []
          }
        }
      ]
    },
    {
      "cell_type": "code",
      "metadata": {
        "colab": {
          "base_uri": "https://localhost:8080/",
          "height": 204
        },
        "id": "vwZR0GF_d0SN",
        "outputId": "4c7ee9c3-441f-492e-a22d-1f98de83fb59"
      },
      "source": [
        "data.head()"
      ],
      "execution_count": 34,
      "outputs": [
        {
          "output_type": "execute_result",
          "data": {
            "text/html": [
              "<div>\n",
              "<style scoped>\n",
              "    .dataframe tbody tr th:only-of-type {\n",
              "        vertical-align: middle;\n",
              "    }\n",
              "\n",
              "    .dataframe tbody tr th {\n",
              "        vertical-align: top;\n",
              "    }\n",
              "\n",
              "    .dataframe thead th {\n",
              "        text-align: right;\n",
              "    }\n",
              "</style>\n",
              "<table border=\"1\" class=\"dataframe\">\n",
              "  <thead>\n",
              "    <tr style=\"text-align: right;\">\n",
              "      <th></th>\n",
              "      <th>price</th>\n",
              "      <th>year</th>\n",
              "      <th>manufacturer</th>\n",
              "      <th>model</th>\n",
              "      <th>condition</th>\n",
              "      <th>cylinders</th>\n",
              "      <th>fuel</th>\n",
              "      <th>odometer</th>\n",
              "      <th>title_status</th>\n",
              "      <th>transmission</th>\n",
              "      <th>size</th>\n",
              "      <th>type</th>\n",
              "    </tr>\n",
              "  </thead>\n",
              "  <tbody>\n",
              "    <tr>\n",
              "      <th>5</th>\n",
              "      <td>13.995</td>\n",
              "      <td>112</td>\n",
              "      <td>13</td>\n",
              "      <td>3433</td>\n",
              "      <td>3</td>\n",
              "      <td>2</td>\n",
              "      <td>2</td>\n",
              "      <td>37</td>\n",
              "      <td>0</td>\n",
              "      <td>0</td>\n",
              "      <td>4</td>\n",
              "      <td>10</td>\n",
              "    </tr>\n",
              "    <tr>\n",
              "      <th>7</th>\n",
              "      <td>8.995</td>\n",
              "      <td>111</td>\n",
              "      <td>7</td>\n",
              "      <td>8023</td>\n",
              "      <td>3</td>\n",
              "      <td>2</td>\n",
              "      <td>2</td>\n",
              "      <td>35</td>\n",
              "      <td>0</td>\n",
              "      <td>0</td>\n",
              "      <td>4</td>\n",
              "      <td>0</td>\n",
              "    </tr>\n",
              "    <tr>\n",
              "      <th>8</th>\n",
              "      <td>10.995</td>\n",
              "      <td>114</td>\n",
              "      <td>13</td>\n",
              "      <td>3308</td>\n",
              "      <td>3</td>\n",
              "      <td>2</td>\n",
              "      <td>2</td>\n",
              "      <td>34</td>\n",
              "      <td>0</td>\n",
              "      <td>0</td>\n",
              "      <td>4</td>\n",
              "      <td>0</td>\n",
              "    </tr>\n",
              "    <tr>\n",
              "      <th>10</th>\n",
              "      <td>10.995</td>\n",
              "      <td>111</td>\n",
              "      <td>7</td>\n",
              "      <td>7028</td>\n",
              "      <td>3</td>\n",
              "      <td>8</td>\n",
              "      <td>2</td>\n",
              "      <td>42</td>\n",
              "      <td>0</td>\n",
              "      <td>0</td>\n",
              "      <td>4</td>\n",
              "      <td>10</td>\n",
              "    </tr>\n",
              "    <tr>\n",
              "      <th>11</th>\n",
              "      <td>12.450</td>\n",
              "      <td>111</td>\n",
              "      <td>7</td>\n",
              "      <td>7028</td>\n",
              "      <td>3</td>\n",
              "      <td>8</td>\n",
              "      <td>2</td>\n",
              "      <td>30</td>\n",
              "      <td>0</td>\n",
              "      <td>0</td>\n",
              "      <td>4</td>\n",
              "      <td>10</td>\n",
              "    </tr>\n",
              "  </tbody>\n",
              "</table>\n",
              "</div>"
            ],
            "text/plain": [
              "     price  year  manufacturer  model  ...  title_status  transmission  size  type\n",
              "5   13.995   112            13   3433  ...             0             0     4    10\n",
              "7    8.995   111             7   8023  ...             0             0     4     0\n",
              "8   10.995   114            13   3308  ...             0             0     4     0\n",
              "10  10.995   111             7   7028  ...             0             0     4    10\n",
              "11  12.450   111             7   7028  ...             0             0     4    10\n",
              "\n",
              "[5 rows x 12 columns]"
            ]
          },
          "metadata": {
            "tags": []
          },
          "execution_count": 34
        }
      ]
    }
  ]
}